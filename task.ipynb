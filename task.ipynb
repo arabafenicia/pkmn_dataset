{
 "cells": [
  {
   "cell_type": "markdown",
   "metadata": {},
   "source": [
    "# Gotta catch 'em all!\n",
    "\n",
    "### pokemon.csv\n",
    "\n",
    "In this file, each row represents the features of one Pokémon.\n",
    "\n",
    "* pid: Numeric - ID of the Pokémon\n",
    "* HP: Numeric - Health points\n",
    "* Attack: Numeric - Strength of the regular attack\n",
    "* Defense: Numeric - Strength of the regular defense\n",
    "* Sp. Atk: Numeric - Strength of the special attack\n",
    "* Sp. Def: Numeric - Strength of the special defense\n",
    "* Speed: Numeric - Moving speed\n",
    "* Legendary: Boolean - ‘True’ if the Pokémon is rare\n",
    "* Class 1: Categorical - Pokémon class\n",
    "* Class 2: Categorical - Pokémon class\n",
    "\n",
    "Please note that a Pokémon can have either one or two classes. If a Pokémon has two classes, they are both considered to have the same importance.\n",
    "\n",
    "### combats.csv\n",
    "\n",
    "In this file, each row represents the outcome of one battle between two Pokémon.\n",
    "\n",
    "* First_pokemon: Numeric - ID (match with pid)\n",
    "* Second_pokemon: Numeric - ID (match with pid)\n",
    "* Winner: Numeric - ID of the winner"
   ]
  },
  {
   "cell_type": "code",
   "execution_count": 1,
   "metadata": {},
   "outputs": [],
   "source": [
    "import pandas as pd\n",
    "import numpy as np\n",
    "import matplotlib.pyplot as plt\n",
    "import seaborn as sns"
   ]
  },
  {
   "cell_type": "code",
   "execution_count": 2,
   "metadata": {},
   "outputs": [
    {
     "data": {
      "text/html": [
       "<div>\n",
       "<style scoped>\n",
       "    .dataframe tbody tr th:only-of-type {\n",
       "        vertical-align: middle;\n",
       "    }\n",
       "\n",
       "    .dataframe tbody tr th {\n",
       "        vertical-align: top;\n",
       "    }\n",
       "\n",
       "    .dataframe thead th {\n",
       "        text-align: right;\n",
       "    }\n",
       "</style>\n",
       "<table border=\"1\" class=\"dataframe\">\n",
       "  <thead>\n",
       "    <tr style=\"text-align: right;\">\n",
       "      <th></th>\n",
       "      <th>pid</th>\n",
       "      <th>Name</th>\n",
       "      <th>Class 1</th>\n",
       "      <th>Class 2</th>\n",
       "      <th>HP</th>\n",
       "      <th>Attack</th>\n",
       "      <th>Defense</th>\n",
       "      <th>Sp. Atk</th>\n",
       "      <th>Sp. Def</th>\n",
       "      <th>Speed</th>\n",
       "      <th>Legendary</th>\n",
       "    </tr>\n",
       "  </thead>\n",
       "  <tbody>\n",
       "    <tr>\n",
       "      <th>0</th>\n",
       "      <td>1</td>\n",
       "      <td>Bulbasaur</td>\n",
       "      <td>Grass</td>\n",
       "      <td>Poison</td>\n",
       "      <td>45</td>\n",
       "      <td>49</td>\n",
       "      <td>49</td>\n",
       "      <td>65</td>\n",
       "      <td>65</td>\n",
       "      <td>45</td>\n",
       "      <td>False</td>\n",
       "    </tr>\n",
       "    <tr>\n",
       "      <th>1</th>\n",
       "      <td>2</td>\n",
       "      <td>Ivysaur</td>\n",
       "      <td>Grass</td>\n",
       "      <td>Poison</td>\n",
       "      <td>60</td>\n",
       "      <td>62</td>\n",
       "      <td>63</td>\n",
       "      <td>80</td>\n",
       "      <td>80</td>\n",
       "      <td>60</td>\n",
       "      <td>False</td>\n",
       "    </tr>\n",
       "    <tr>\n",
       "      <th>2</th>\n",
       "      <td>3</td>\n",
       "      <td>Venusaur</td>\n",
       "      <td>Grass</td>\n",
       "      <td>Poison</td>\n",
       "      <td>80</td>\n",
       "      <td>82</td>\n",
       "      <td>83</td>\n",
       "      <td>100</td>\n",
       "      <td>100</td>\n",
       "      <td>80</td>\n",
       "      <td>False</td>\n",
       "    </tr>\n",
       "    <tr>\n",
       "      <th>3</th>\n",
       "      <td>4</td>\n",
       "      <td>Mega Venusaur</td>\n",
       "      <td>Grass</td>\n",
       "      <td>Poison</td>\n",
       "      <td>80</td>\n",
       "      <td>100</td>\n",
       "      <td>123</td>\n",
       "      <td>122</td>\n",
       "      <td>120</td>\n",
       "      <td>80</td>\n",
       "      <td>False</td>\n",
       "    </tr>\n",
       "    <tr>\n",
       "      <th>4</th>\n",
       "      <td>5</td>\n",
       "      <td>Charmander</td>\n",
       "      <td>Fire</td>\n",
       "      <td>NaN</td>\n",
       "      <td>39</td>\n",
       "      <td>52</td>\n",
       "      <td>43</td>\n",
       "      <td>60</td>\n",
       "      <td>50</td>\n",
       "      <td>65</td>\n",
       "      <td>False</td>\n",
       "    </tr>\n",
       "  </tbody>\n",
       "</table>\n",
       "</div>"
      ],
      "text/plain": [
       "   pid           Name Class 1 Class 2  HP  Attack  Defense  Sp. Atk  Sp. Def  \\\n",
       "0    1      Bulbasaur   Grass  Poison  45      49       49       65       65   \n",
       "1    2        Ivysaur   Grass  Poison  60      62       63       80       80   \n",
       "2    3       Venusaur   Grass  Poison  80      82       83      100      100   \n",
       "3    4  Mega Venusaur   Grass  Poison  80     100      123      122      120   \n",
       "4    5     Charmander    Fire     NaN  39      52       43       60       50   \n",
       "\n",
       "   Speed  Legendary  \n",
       "0     45      False  \n",
       "1     60      False  \n",
       "2     80      False  \n",
       "3     80      False  \n",
       "4     65      False  "
      ]
     },
     "execution_count": 2,
     "metadata": {},
     "output_type": "execute_result"
    }
   ],
   "source": [
    "pkmn = pd.read_csv('pokemon.csv')\n",
    "pkmn.head()"
   ]
  },
  {
   "cell_type": "code",
   "execution_count": 3,
   "metadata": {},
   "outputs": [
    {
     "data": {
      "text/html": [
       "<div>\n",
       "<style scoped>\n",
       "    .dataframe tbody tr th:only-of-type {\n",
       "        vertical-align: middle;\n",
       "    }\n",
       "\n",
       "    .dataframe tbody tr th {\n",
       "        vertical-align: top;\n",
       "    }\n",
       "\n",
       "    .dataframe thead th {\n",
       "        text-align: right;\n",
       "    }\n",
       "</style>\n",
       "<table border=\"1\" class=\"dataframe\">\n",
       "  <thead>\n",
       "    <tr style=\"text-align: right;\">\n",
       "      <th></th>\n",
       "      <th>First_pokemon</th>\n",
       "      <th>Second_pokemon</th>\n",
       "      <th>Winner</th>\n",
       "    </tr>\n",
       "  </thead>\n",
       "  <tbody>\n",
       "    <tr>\n",
       "      <th>0</th>\n",
       "      <td>266</td>\n",
       "      <td>298</td>\n",
       "      <td>298</td>\n",
       "    </tr>\n",
       "    <tr>\n",
       "      <th>1</th>\n",
       "      <td>702</td>\n",
       "      <td>701</td>\n",
       "      <td>701</td>\n",
       "    </tr>\n",
       "    <tr>\n",
       "      <th>2</th>\n",
       "      <td>191</td>\n",
       "      <td>668</td>\n",
       "      <td>668</td>\n",
       "    </tr>\n",
       "    <tr>\n",
       "      <th>3</th>\n",
       "      <td>237</td>\n",
       "      <td>683</td>\n",
       "      <td>683</td>\n",
       "    </tr>\n",
       "    <tr>\n",
       "      <th>4</th>\n",
       "      <td>151</td>\n",
       "      <td>231</td>\n",
       "      <td>151</td>\n",
       "    </tr>\n",
       "  </tbody>\n",
       "</table>\n",
       "</div>"
      ],
      "text/plain": [
       "   First_pokemon  Second_pokemon  Winner\n",
       "0            266             298     298\n",
       "1            702             701     701\n",
       "2            191             668     668\n",
       "3            237             683     683\n",
       "4            151             231     151"
      ]
     },
     "execution_count": 3,
     "metadata": {},
     "output_type": "execute_result"
    }
   ],
   "source": [
    "duels = pd.read_csv('combats.csv')\n",
    "duels.head()"
   ]
  },
  {
   "cell_type": "markdown",
   "metadata": {},
   "source": [
    "## Question 1: Exploring the data\n",
    "In this part, you will explore the data to address the curiosities of the demanding Professor Oak.\n",
    "\n",
    "1. Explore the data and report some descriptive statistics (e.g., use df.describe(), report the number of classes, summarize the attack and defense distributions, etc.). This will be useful later in your analysis."
   ]
  },
  {
   "cell_type": "code",
   "execution_count": 4,
   "metadata": {},
   "outputs": [
    {
     "data": {
      "text/html": [
       "<div>\n",
       "<style scoped>\n",
       "    .dataframe tbody tr th:only-of-type {\n",
       "        vertical-align: middle;\n",
       "    }\n",
       "\n",
       "    .dataframe tbody tr th {\n",
       "        vertical-align: top;\n",
       "    }\n",
       "\n",
       "    .dataframe thead th {\n",
       "        text-align: right;\n",
       "    }\n",
       "</style>\n",
       "<table border=\"1\" class=\"dataframe\">\n",
       "  <thead>\n",
       "    <tr style=\"text-align: right;\">\n",
       "      <th></th>\n",
       "      <th>pid</th>\n",
       "      <th>HP</th>\n",
       "      <th>Attack</th>\n",
       "      <th>Defense</th>\n",
       "      <th>Sp. Atk</th>\n",
       "      <th>Sp. Def</th>\n",
       "      <th>Speed</th>\n",
       "    </tr>\n",
       "  </thead>\n",
       "  <tbody>\n",
       "    <tr>\n",
       "      <th>count</th>\n",
       "      <td>800.0000</td>\n",
       "      <td>800.000000</td>\n",
       "      <td>800.000000</td>\n",
       "      <td>800.000000</td>\n",
       "      <td>800.000000</td>\n",
       "      <td>800.000000</td>\n",
       "      <td>800.000000</td>\n",
       "    </tr>\n",
       "    <tr>\n",
       "      <th>mean</th>\n",
       "      <td>400.5000</td>\n",
       "      <td>69.258750</td>\n",
       "      <td>79.001250</td>\n",
       "      <td>73.842500</td>\n",
       "      <td>72.820000</td>\n",
       "      <td>71.902500</td>\n",
       "      <td>68.277500</td>\n",
       "    </tr>\n",
       "    <tr>\n",
       "      <th>std</th>\n",
       "      <td>231.0844</td>\n",
       "      <td>25.534669</td>\n",
       "      <td>32.457366</td>\n",
       "      <td>31.183501</td>\n",
       "      <td>32.722294</td>\n",
       "      <td>27.828916</td>\n",
       "      <td>29.060474</td>\n",
       "    </tr>\n",
       "    <tr>\n",
       "      <th>min</th>\n",
       "      <td>1.0000</td>\n",
       "      <td>1.000000</td>\n",
       "      <td>5.000000</td>\n",
       "      <td>5.000000</td>\n",
       "      <td>10.000000</td>\n",
       "      <td>20.000000</td>\n",
       "      <td>5.000000</td>\n",
       "    </tr>\n",
       "    <tr>\n",
       "      <th>25%</th>\n",
       "      <td>200.7500</td>\n",
       "      <td>50.000000</td>\n",
       "      <td>55.000000</td>\n",
       "      <td>50.000000</td>\n",
       "      <td>49.750000</td>\n",
       "      <td>50.000000</td>\n",
       "      <td>45.000000</td>\n",
       "    </tr>\n",
       "    <tr>\n",
       "      <th>50%</th>\n",
       "      <td>400.5000</td>\n",
       "      <td>65.000000</td>\n",
       "      <td>75.000000</td>\n",
       "      <td>70.000000</td>\n",
       "      <td>65.000000</td>\n",
       "      <td>70.000000</td>\n",
       "      <td>65.000000</td>\n",
       "    </tr>\n",
       "    <tr>\n",
       "      <th>75%</th>\n",
       "      <td>600.2500</td>\n",
       "      <td>80.000000</td>\n",
       "      <td>100.000000</td>\n",
       "      <td>90.000000</td>\n",
       "      <td>95.000000</td>\n",
       "      <td>90.000000</td>\n",
       "      <td>90.000000</td>\n",
       "    </tr>\n",
       "    <tr>\n",
       "      <th>max</th>\n",
       "      <td>800.0000</td>\n",
       "      <td>255.000000</td>\n",
       "      <td>190.000000</td>\n",
       "      <td>230.000000</td>\n",
       "      <td>194.000000</td>\n",
       "      <td>230.000000</td>\n",
       "      <td>180.000000</td>\n",
       "    </tr>\n",
       "  </tbody>\n",
       "</table>\n",
       "</div>"
      ],
      "text/plain": [
       "            pid          HP      Attack     Defense     Sp. Atk     Sp. Def  \\\n",
       "count  800.0000  800.000000  800.000000  800.000000  800.000000  800.000000   \n",
       "mean   400.5000   69.258750   79.001250   73.842500   72.820000   71.902500   \n",
       "std    231.0844   25.534669   32.457366   31.183501   32.722294   27.828916   \n",
       "min      1.0000    1.000000    5.000000    5.000000   10.000000   20.000000   \n",
       "25%    200.7500   50.000000   55.000000   50.000000   49.750000   50.000000   \n",
       "50%    400.5000   65.000000   75.000000   70.000000   65.000000   70.000000   \n",
       "75%    600.2500   80.000000  100.000000   90.000000   95.000000   90.000000   \n",
       "max    800.0000  255.000000  190.000000  230.000000  194.000000  230.000000   \n",
       "\n",
       "            Speed  \n",
       "count  800.000000  \n",
       "mean    68.277500  \n",
       "std     29.060474  \n",
       "min      5.000000  \n",
       "25%     45.000000  \n",
       "50%     65.000000  \n",
       "75%     90.000000  \n",
       "max    180.000000  "
      ]
     },
     "execution_count": 4,
     "metadata": {},
     "output_type": "execute_result"
    }
   ],
   "source": [
    "pkmn.describe()"
   ]
  },
  {
   "cell_type": "code",
   "execution_count": 5,
   "metadata": {},
   "outputs": [
    {
     "name": "stdout",
     "output_type": "stream",
     "text": [
      "Water       112\n",
      "Normal       98\n",
      "Grass        70\n",
      "Bug          69\n",
      "Psychic      57\n",
      "Fire         52\n",
      "Electric     44\n",
      "Rock         44\n",
      "Ground       32\n",
      "Dragon       32\n",
      "Ghost        32\n",
      "Dark         31\n",
      "Poison       28\n",
      "Fighting     27\n",
      "Steel        27\n",
      "Ice          24\n",
      "Fairy        17\n",
      "Flying        4\n",
      "Name: Class 1, dtype: int64\n",
      "Number of classes: 18\n"
     ]
    }
   ],
   "source": [
    "print(pkmn['Class 1'].value_counts())\n",
    "print(f\"Number of classes: {pkmn['Class 1'].nunique()}\")"
   ]
  },
  {
   "cell_type": "code",
   "execution_count": 6,
   "metadata": {},
   "outputs": [
    {
     "name": "stdout",
     "output_type": "stream",
     "text": [
      "Flying      97\n",
      "Ground      35\n",
      "Poison      34\n",
      "Psychic     33\n",
      "Fighting    26\n",
      "Grass       25\n",
      "Fairy       23\n",
      "Steel       22\n",
      "Dark        20\n",
      "Dragon      18\n",
      "Water       14\n",
      "Rock        14\n",
      "Ghost       14\n",
      "Ice         14\n",
      "Fire        12\n",
      "Electric     6\n",
      "Normal       4\n",
      "Bug          3\n",
      "Name: Class 2, dtype: int64\n",
      "18\n"
     ]
    }
   ],
   "source": [
    "print(pkmn['Class 2'].value_counts())\n",
    "print(pkmn['Class 2'].nunique())"
   ]
  },
  {
   "cell_type": "code",
   "execution_count": 7,
   "metadata": {},
   "outputs": [
    {
     "name": "stdout",
     "output_type": "stream",
     "text": [
      "There are 386 single-class pokémon.\n"
     ]
    }
   ],
   "source": [
    "print(f\"There are {pkmn['Class 2'].isna().sum()} single-class pokémon.\")"
   ]
  },
  {
   "cell_type": "code",
   "execution_count": 8,
   "metadata": {},
   "outputs": [
    {
     "name": "stdout",
     "output_type": "stream",
     "text": [
      "False    735\n",
      "True      65\n",
      "Name: Legendary, dtype: int64\n"
     ]
    }
   ],
   "source": [
    "print(pkmn['Legendary'].value_counts())"
   ]
  },
  {
   "cell_type": "code",
   "execution_count": 9,
   "metadata": {
    "scrolled": false
   },
   "outputs": [
    {
     "data": {
      "image/png": "[encoded data removed]",
      "text/plain": [
       "<Figure size 720x720 with 6 Axes>"
      ]
     },
     "metadata": {
      "needs_background": "light"
     },
     "output_type": "display_data"
    }
   ],
   "source": [
    "ax = pkmn[pkmn.describe().columns[1:]].hist(figsize=(10,10))"
   ]
  },
  {
   "cell_type": "code",
   "execution_count": 10,
   "metadata": {},
   "outputs": [
    {
     "data": {
      "text/html": [
       "<div>\n",
       "<style scoped>\n",
       "    .dataframe tbody tr th:only-of-type {\n",
       "        vertical-align: middle;\n",
       "    }\n",
       "\n",
       "    .dataframe tbody tr th {\n",
       "        vertical-align: top;\n",
       "    }\n",
       "\n",
       "    .dataframe thead th {\n",
       "        text-align: right;\n",
       "    }\n",
       "</style>\n",
       "<table border=\"1\" class=\"dataframe\">\n",
       "  <thead>\n",
       "    <tr style=\"text-align: right;\">\n",
       "      <th></th>\n",
       "      <th>pid</th>\n",
       "      <th>HP</th>\n",
       "      <th>Attack</th>\n",
       "      <th>Defense</th>\n",
       "      <th>Sp. Atk</th>\n",
       "      <th>Sp. Def</th>\n",
       "      <th>Speed</th>\n",
       "      <th>Legendary</th>\n",
       "    </tr>\n",
       "  </thead>\n",
       "  <tbody>\n",
       "    <tr>\n",
       "      <th>pid</th>\n",
       "      <td>1.000000</td>\n",
       "      <td>0.097712</td>\n",
       "      <td>0.102664</td>\n",
       "      <td>0.094691</td>\n",
       "      <td>0.089199</td>\n",
       "      <td>0.085596</td>\n",
       "      <td>0.012181</td>\n",
       "      <td>0.154336</td>\n",
       "    </tr>\n",
       "    <tr>\n",
       "      <th>HP</th>\n",
       "      <td>0.097712</td>\n",
       "      <td>1.000000</td>\n",
       "      <td>0.422386</td>\n",
       "      <td>0.239622</td>\n",
       "      <td>0.362380</td>\n",
       "      <td>0.378718</td>\n",
       "      <td>0.175952</td>\n",
       "      <td>0.273620</td>\n",
       "    </tr>\n",
       "    <tr>\n",
       "      <th>Attack</th>\n",
       "      <td>0.102664</td>\n",
       "      <td>0.422386</td>\n",
       "      <td>1.000000</td>\n",
       "      <td>0.438687</td>\n",
       "      <td>0.396362</td>\n",
       "      <td>0.263990</td>\n",
       "      <td>0.381240</td>\n",
       "      <td>0.345408</td>\n",
       "    </tr>\n",
       "    <tr>\n",
       "      <th>Defense</th>\n",
       "      <td>0.094691</td>\n",
       "      <td>0.239622</td>\n",
       "      <td>0.438687</td>\n",
       "      <td>1.000000</td>\n",
       "      <td>0.223549</td>\n",
       "      <td>0.510747</td>\n",
       "      <td>0.015227</td>\n",
       "      <td>0.246377</td>\n",
       "    </tr>\n",
       "    <tr>\n",
       "      <th>Sp. Atk</th>\n",
       "      <td>0.089199</td>\n",
       "      <td>0.362380</td>\n",
       "      <td>0.396362</td>\n",
       "      <td>0.223549</td>\n",
       "      <td>1.000000</td>\n",
       "      <td>0.506121</td>\n",
       "      <td>0.473018</td>\n",
       "      <td>0.448907</td>\n",
       "    </tr>\n",
       "    <tr>\n",
       "      <th>Sp. Def</th>\n",
       "      <td>0.085596</td>\n",
       "      <td>0.378718</td>\n",
       "      <td>0.263990</td>\n",
       "      <td>0.510747</td>\n",
       "      <td>0.506121</td>\n",
       "      <td>1.000000</td>\n",
       "      <td>0.259133</td>\n",
       "      <td>0.363937</td>\n",
       "    </tr>\n",
       "    <tr>\n",
       "      <th>Speed</th>\n",
       "      <td>0.012181</td>\n",
       "      <td>0.175952</td>\n",
       "      <td>0.381240</td>\n",
       "      <td>0.015227</td>\n",
       "      <td>0.473018</td>\n",
       "      <td>0.259133</td>\n",
       "      <td>1.000000</td>\n",
       "      <td>0.326715</td>\n",
       "    </tr>\n",
       "    <tr>\n",
       "      <th>Legendary</th>\n",
       "      <td>0.154336</td>\n",
       "      <td>0.273620</td>\n",
       "      <td>0.345408</td>\n",
       "      <td>0.246377</td>\n",
       "      <td>0.448907</td>\n",
       "      <td>0.363937</td>\n",
       "      <td>0.326715</td>\n",
       "      <td>1.000000</td>\n",
       "    </tr>\n",
       "  </tbody>\n",
       "</table>\n",
       "</div>"
      ],
      "text/plain": [
       "                pid        HP    Attack   Defense   Sp. Atk   Sp. Def  \\\n",
       "pid        1.000000  0.097712  0.102664  0.094691  0.089199  0.085596   \n",
       "HP         0.097712  1.000000  0.422386  0.239622  0.362380  0.378718   \n",
       "Attack     0.102664  0.422386  1.000000  0.438687  0.396362  0.263990   \n",
       "Defense    0.094691  0.239622  0.438687  1.000000  0.223549  0.510747   \n",
       "Sp. Atk    0.089199  0.362380  0.396362  0.223549  1.000000  0.506121   \n",
       "Sp. Def    0.085596  0.378718  0.263990  0.510747  0.506121  1.000000   \n",
       "Speed      0.012181  0.175952  0.381240  0.015227  0.473018  0.259133   \n",
       "Legendary  0.154336  0.273620  0.345408  0.246377  0.448907  0.363937   \n",
       "\n",
       "              Speed  Legendary  \n",
       "pid        0.012181   0.154336  \n",
       "HP         0.175952   0.273620  \n",
       "Attack     0.381240   0.345408  \n",
       "Defense    0.015227   0.246377  \n",
       "Sp. Atk    0.473018   0.448907  \n",
       "Sp. Def    0.259133   0.363937  \n",
       "Speed      1.000000   0.326715  \n",
       "Legendary  0.326715   1.000000  "
      ]
     },
     "execution_count": 10,
     "metadata": {},
     "output_type": "execute_result"
    }
   ],
   "source": [
    "pkmn.corr() # I don't notice high correlations between features"
   ]
  },
  {
   "cell_type": "code",
   "execution_count": 11,
   "metadata": {},
   "outputs": [
    {
     "data": {
      "text/plain": [
       "((50000, 3), First_pokemon     784\n",
       " Second_pokemon    784\n",
       " Winner            783\n",
       " dtype: int64)"
      ]
     },
     "execution_count": 11,
     "metadata": {},
     "output_type": "execute_result"
    }
   ],
   "source": [
    "duels.shape, duels.nunique() # not all pokémon have been tried"
   ]
  },
  {
   "cell_type": "code",
   "execution_count": 12,
   "metadata": {},
   "outputs": [
    {
     "data": {
      "text/plain": [
       "163    152\n",
       "154    136\n",
       "438    136\n",
       "428    134\n",
       "432    133\n",
       "      ... \n",
       "189      5\n",
       "237      4\n",
       "639      4\n",
       "190      3\n",
       "290      3\n",
       "Name: Winner, Length: 783, dtype: int64"
      ]
     },
     "execution_count": 12,
     "metadata": {},
     "output_type": "execute_result"
    }
   ],
   "source": [
    "duels.Winner.value_counts() # pokémon sorted by which of them gets most victories"
   ]
  },
  {
   "cell_type": "markdown",
   "metadata": {},
   "source": [
    "2. Compare the probability distribution of the “regular attack” feature with that of the “regular defense” feature. In particular,\n",
    "   1. visualize the relation between these two variables using an appropriate plot;\n",
    "   2. list the names of the 3 Pokémon with highest attack-over-defense ratio;\n",
    "   3. list the names of the 3 Pokémon with lowest attack-over-defense ratio;\n",
    "   4. list the names of the 10 Pokémon with the largest number of victories."
   ]
  },
  {
   "cell_type": "code",
   "execution_count": 13,
   "metadata": {},
   "outputs": [
    {
     "data": {
      "text/plain": [
       "<seaborn.axisgrid.JointGrid at 0x1a28669c90>"
      ]
     },
     "execution_count": 13,
     "metadata": {},
     "output_type": "execute_result"
    },
    {
     "data": {
      "image/png": "[encoded data removed]",
      "text/plain": [
       "<Figure size 432x432 with 3 Axes>"
      ]
     },
     "metadata": {
      "needs_background": "light"
     },
     "output_type": "display_data"
    }
   ],
   "source": [
    "sns.jointplot(data=pkmn[['Attack','Defense']], x=\"Attack\", y=\"Defense\")"
   ]
  },
  {
   "cell_type": "code",
   "execution_count": 14,
   "metadata": {},
   "outputs": [
    {
     "name": "stdout",
     "output_type": "stream",
     "text": [
      "B - Names of the 3 Pokémon with highest attack-over-defense ratio:\n"
     ]
    },
    {
     "data": {
      "text/plain": [
       "429    DeoxysAttack Forme\n",
       "347              Carvanha\n",
       "19          Mega Beedrill\n",
       "Name: Name, dtype: object"
      ]
     },
     "execution_count": 14,
     "metadata": {},
     "output_type": "execute_result"
    }
   ],
   "source": [
    "print('B - Names of the 3 Pokémon with highest attack-over-defense ratio:')\n",
    "pkmn['Name'].reindex((pkmn['Attack']/pkmn['Defense']).sort_values(ascending=False)[:3].index)"
   ]
  },
  {
   "cell_type": "code",
   "execution_count": 15,
   "metadata": {},
   "outputs": [
    {
     "name": "stdout",
     "output_type": "stream",
     "text": [
      "C - Names of the 3 Pokémon with lowest attack-over-defense ratio:\n"
     ]
    },
    {
     "data": {
      "text/plain": [
       "230     Shuckle\n",
       "139    Magikarp\n",
       "484     Bronzor\n",
       "Name: Name, dtype: object"
      ]
     },
     "execution_count": 15,
     "metadata": {},
     "output_type": "execute_result"
    }
   ],
   "source": [
    "print('C - Names of the 3 Pokémon with lowest attack-over-defense ratio:')\n",
    "pkmn['Name'].reindex((pkmn['Attack']/pkmn['Defense']).sort_values()[:3].index)"
   ]
  },
  {
   "cell_type": "code",
   "execution_count": 16,
   "metadata": {},
   "outputs": [
    {
     "name": "stdout",
     "output_type": "stream",
     "text": [
      "D - Names of the 10 Pokémon with the largest number of victories:\n"
     ]
    },
    {
     "data": {
      "text/plain": [
       "163          Mega Mewtwo X\n",
       "154        Mega Aerodactyl\n",
       "438                 Piplup\n",
       "428    Deoxys Normal Forme\n",
       "432                Turtwig\n",
       "314                Nincada\n",
       "214               Slowking\n",
       "394                 Wynaut\n",
       "249                Kingdra\n",
       "155                Snorlax\n",
       "Name: Name, dtype: object"
      ]
     },
     "execution_count": 16,
     "metadata": {},
     "output_type": "execute_result"
    }
   ],
   "source": [
    "print('D - Names of the 10 Pokémon with the largest number of victories:')\n",
    "pkmn['Name'].reindex(duels.Winner.value_counts()[:10].index)"
   ]
  },
  {
   "cell_type": "markdown",
   "metadata": {},
   "source": [
    "3. Professor Oak suspects that Pokémon in the _grass_ class have a stronger regular attack than those in the _rock_ class. Check if he is right and convince him of your conclusion with statistical arguments.\n",
    "   Note: If there are Pokémon that are in both classes, discard them.\n",
    "   Note: You may assume that the distribution of the regular attack feature is normal for all Pokémon classes."
   ]
  },
  {
   "cell_type": "code",
   "execution_count": 17,
   "metadata": {},
   "outputs": [
    {
     "data": {
      "text/plain": [
       "0    [Grass, Poison]\n",
       "1    [Grass, Poison]\n",
       "2    [Grass, Poison]\n",
       "3    [Grass, Poison]\n",
       "4        [Fire, nan]\n",
       "dtype: object"
      ]
     },
     "execution_count": 17,
     "metadata": {},
     "output_type": "execute_result"
    }
   ],
   "source": [
    "classes_combo = pd.Series(pkmn[['Class 1', 'Class 2']].values.tolist(), index=pkmn.index)\n",
    "classes_combo.head()"
   ]
  },
  {
   "cell_type": "code",
   "execution_count": 18,
   "metadata": {},
   "outputs": [
    {
     "name": "stderr",
     "output_type": "stream",
     "text": [
      "/Users/keymug/opt/anaconda3/envs/tenpct/lib/python3.7/site-packages/seaborn/distributions.py:2551: FutureWarning: `distplot` is a deprecated function and will be removed in a future version. Please adapt your code to use either `displot` (a figure-level function with similar flexibility) or `histplot` (an axes-level function for histograms).\n",
      "  warnings.warn(msg, FutureWarning)\n",
      "/Users/keymug/opt/anaconda3/envs/tenpct/lib/python3.7/site-packages/seaborn/distributions.py:2551: FutureWarning: `distplot` is a deprecated function and will be removed in a future version. Please adapt your code to use either `displot` (a figure-level function with similar flexibility) or `histplot` (an axes-level function for histograms).\n",
      "  warnings.warn(msg, FutureWarning)\n"
     ]
    },
    {
     "data": {
      "text/plain": [
       "<matplotlib.legend.Legend at 0x1a28b5cb50>"
      ]
     },
     "execution_count": 18,
     "metadata": {},
     "output_type": "execute_result"
    },
    {
     "data": {
      "image/png": "[encoded data removed]",
      "text/plain": [
       "<Figure size 432x288 with 1 Axes>"
      ]
     },
     "metadata": {
      "needs_background": "light"
     },
     "output_type": "display_data"
    }
   ],
   "source": [
    "grass_attack = pkmn[[('Grass' in x and 'Rock' not in x) for x in classes_combo.values]]['Attack']\n",
    "rock_attack = pkmn[[('Rock' in x and 'Grass' not in x) for x in classes_combo.values]]['Attack']\n",
    "plt.figure()\n",
    "sns.distplot(grass_attack, label='Grass')\n",
    "sns.distplot(rock_attack, label='Rock')\n",
    "plt.legend()"
   ]
  },
  {
   "cell_type": "code",
   "execution_count": 19,
   "metadata": {},
   "outputs": [
    {
     "data": {
      "text/plain": [
       "((93,), (56,))"
      ]
     },
     "execution_count": 19,
     "metadata": {},
     "output_type": "execute_result"
    }
   ],
   "source": [
    "grass_attack.shape, rock_attack.shape"
   ]
  },
  {
   "cell_type": "markdown",
   "metadata": {},
   "source": [
    "Grass class doesn't look stronger than Rock class. The sample sizes are > 30, then we treat them as normal distributions."
   ]
  },
  {
   "cell_type": "code",
   "execution_count": 20,
   "metadata": {},
   "outputs": [],
   "source": [
    "from scipy.stats import ttest_ind\n",
    "\n",
    "t_statistic, p_value = ttest_ind(grass_attack, rock_attack, equal_var=False) # two-sided Welch's t-test"
   ]
  },
  {
   "cell_type": "code",
   "execution_count": 21,
   "metadata": {},
   "outputs": [
    {
     "data": {
      "text/plain": [
       "-3.4169379582521513"
      ]
     },
     "execution_count": 21,
     "metadata": {},
     "output_type": "execute_result"
    }
   ],
   "source": [
    "t_statistic"
   ]
  },
  {
   "cell_type": "code",
   "execution_count": 22,
   "metadata": {},
   "outputs": [
    {
     "name": "stdout",
     "output_type": "stream",
     "text": [
      "0.0009640546913545304\n",
      "Reject null hypothesis for less-than test.\n"
     ]
    }
   ],
   "source": [
    "print(p_value)\n",
    "alpha = 0.05\n",
    "if p_value/2 < alpha and t_statistic > 0: # one-sided test\n",
    "    print('Reject null hypothesis for greater-than test.')\n",
    "elif p_value/2 < alpha and t_statistic < 0:\n",
    "    print('Reject null hypothesis for less-than test.')\n",
    "else:\n",
    "    print('Fail to reject null hypothesis for greater-than test.')"
   ]
  },
  {
   "cell_type": "code",
   "execution_count": 23,
   "metadata": {},
   "outputs": [
    {
     "name": "stdout",
     "output_type": "stream",
     "text": [
      "Reject null hypothesis for greater-than test.\n"
     ]
    }
   ],
   "source": [
    "t_statistic, p_value = ttest_ind(rock_attack, grass_attack, equal_var=False) # two-sided\n",
    "alpha = 0.05\n",
    "if p_value/2 < alpha and t_statistic > 0: # one-sided test\n",
    "    print('Reject null hypothesis for greater-than test.')\n",
    "elif p_value/2 < alpha and t_statistic < 0:\n",
    "    print('Reject null hypothesis for less-than test.')\n",
    "else:\n",
    "    print('Fail to reject null hypothesis for greater-than test.')"
   ]
  },
  {
   "cell_type": "markdown",
   "metadata": {},
   "source": [
    "So there was no statistical significance to assert that Grass attack is greater than Rock attack, but there is statistical significance to assert the opposite, i.e., that Rock attack is greater than Grass attack."
   ]
  },
  {
   "cell_type": "markdown",
   "metadata": {},
   "source": [
    "## Question 2: Prediction\n",
    "Now that you know what your data looks like, you are ready to implement the prediction model for the Pokedex 2.0. The model should take as input the features of two Pokémon and generate a binary value to predict who will win.\n",
    "\n",
    "1. Generate the feature vectors and the labels to train your model.\n",
    "2. How does your model handle categorical features and Pokémon with multiple classes?\n",
    "3. Train a random forest to predict the winner of a match based on the available features. To do so, split the full dataset randomly into a training set (90%) and a testing set (10%), and try different values of the number of estimators (`n_estimators`, try values 10, 25, 50, 100) and the maximum tree depth (`max_depth`, try values 2, 4, 10). Do this manually, without using any scikit-learn helpers.\n",
    "4. Summarize and describe the results you obtain when training on 90% and testing on 10% of the data. What is the best combination of the two hyperparameters (number of estimators and maximum tree depth)?\n",
    "5. Could the above training/testing setup potentially lead to wrong conclusions regarding the best hyperparameter setting? If so, describe why, and how you would address the problem. (Hint: think about how you’re making use of the data during training and testing).\n",
    "6. Implement your solution to the problem you’ve identified in the previous subquestion (5), and show and describe your results.\n",
    "7. Finally, Professor Oak wants to know what the most predictive features are. Plot feature importance as a bar plot representing the 10 most predictive variables."
   ]
  },
  {
   "cell_type": "markdown",
   "metadata": {},
   "source": [
    "Possible features:\n",
    "- concatenate horizontally the feature rows of the 2 pokémon\n",
    "    - this creates somehow duplicate information in different columns though\n",
    "- difference of each pair of features for the 2 pokémon (e.g., difference of attacks, diff. of attack and defense)\n",
    "    - making a very big one-hot for each possible combination of classes (it is well-known that some types are very weak against others, e.g., grass VS fire and fire VS water)\n",
    "    - computing the squares or the log of those differences, to account for non-linear relationships between features and battle outcome"
   ]
  },
  {
   "cell_type": "code",
   "execution_count": 24,
   "metadata": {},
   "outputs": [
    {
     "data": {
      "text/html": [
       "<div>\n",
       "<style scoped>\n",
       "    .dataframe tbody tr th:only-of-type {\n",
       "        vertical-align: middle;\n",
       "    }\n",
       "\n",
       "    .dataframe tbody tr th {\n",
       "        vertical-align: top;\n",
       "    }\n",
       "\n",
       "    .dataframe thead th {\n",
       "        text-align: right;\n",
       "    }\n",
       "</style>\n",
       "<table border=\"1\" class=\"dataframe\">\n",
       "  <thead>\n",
       "    <tr style=\"text-align: right;\">\n",
       "      <th></th>\n",
       "      <th>First_pokemon</th>\n",
       "      <th>Second_pokemon</th>\n",
       "      <th>Winner</th>\n",
       "      <th>labels</th>\n",
       "    </tr>\n",
       "  </thead>\n",
       "  <tbody>\n",
       "    <tr>\n",
       "      <th>0</th>\n",
       "      <td>266</td>\n",
       "      <td>298</td>\n",
       "      <td>298</td>\n",
       "      <td>1</td>\n",
       "    </tr>\n",
       "    <tr>\n",
       "      <th>1</th>\n",
       "      <td>702</td>\n",
       "      <td>701</td>\n",
       "      <td>701</td>\n",
       "      <td>1</td>\n",
       "    </tr>\n",
       "    <tr>\n",
       "      <th>2</th>\n",
       "      <td>191</td>\n",
       "      <td>668</td>\n",
       "      <td>668</td>\n",
       "      <td>1</td>\n",
       "    </tr>\n",
       "    <tr>\n",
       "      <th>3</th>\n",
       "      <td>237</td>\n",
       "      <td>683</td>\n",
       "      <td>683</td>\n",
       "      <td>1</td>\n",
       "    </tr>\n",
       "    <tr>\n",
       "      <th>4</th>\n",
       "      <td>151</td>\n",
       "      <td>231</td>\n",
       "      <td>151</td>\n",
       "      <td>0</td>\n",
       "    </tr>\n",
       "    <tr>\n",
       "      <th>5</th>\n",
       "      <td>657</td>\n",
       "      <td>752</td>\n",
       "      <td>657</td>\n",
       "      <td>0</td>\n",
       "    </tr>\n",
       "    <tr>\n",
       "      <th>6</th>\n",
       "      <td>192</td>\n",
       "      <td>134</td>\n",
       "      <td>134</td>\n",
       "      <td>1</td>\n",
       "    </tr>\n",
       "    <tr>\n",
       "      <th>7</th>\n",
       "      <td>73</td>\n",
       "      <td>545</td>\n",
       "      <td>545</td>\n",
       "      <td>1</td>\n",
       "    </tr>\n",
       "    <tr>\n",
       "      <th>8</th>\n",
       "      <td>220</td>\n",
       "      <td>763</td>\n",
       "      <td>763</td>\n",
       "      <td>1</td>\n",
       "    </tr>\n",
       "    <tr>\n",
       "      <th>9</th>\n",
       "      <td>302</td>\n",
       "      <td>31</td>\n",
       "      <td>31</td>\n",
       "      <td>1</td>\n",
       "    </tr>\n",
       "  </tbody>\n",
       "</table>\n",
       "</div>"
      ],
      "text/plain": [
       "   First_pokemon  Second_pokemon  Winner  labels\n",
       "0            266             298     298       1\n",
       "1            702             701     701       1\n",
       "2            191             668     668       1\n",
       "3            237             683     683       1\n",
       "4            151             231     151       0\n",
       "5            657             752     657       0\n",
       "6            192             134     134       1\n",
       "7             73             545     545       1\n",
       "8            220             763     763       1\n",
       "9            302              31      31       1"
      ]
     },
     "execution_count": 24,
     "metadata": {},
     "output_type": "execute_result"
    }
   ],
   "source": [
    "duels['labels'] = np.where(duels['Winner'] == duels['First_pokemon'], 0, 1)\n",
    "duels.head(10)"
   ]
  },
  {
   "cell_type": "code",
   "execution_count": 25,
   "metadata": {},
   "outputs": [],
   "source": [
    "one_hot_classes = pd.get_dummies(classes_combo.apply(pd.Series).stack()).sum(level=0) # Answer to question 2.2"
   ]
  },
  {
   "cell_type": "code",
   "execution_count": 26,
   "metadata": {},
   "outputs": [
    {
     "data": {
      "text/html": [
       "<div>\n",
       "<style scoped>\n",
       "    .dataframe tbody tr th:only-of-type {\n",
       "        vertical-align: middle;\n",
       "    }\n",
       "\n",
       "    .dataframe tbody tr th {\n",
       "        vertical-align: top;\n",
       "    }\n",
       "\n",
       "    .dataframe thead th {\n",
       "        text-align: right;\n",
       "    }\n",
       "</style>\n",
       "<table border=\"1\" class=\"dataframe\">\n",
       "  <thead>\n",
       "    <tr style=\"text-align: right;\">\n",
       "      <th></th>\n",
       "      <th>pid</th>\n",
       "      <th>HP</th>\n",
       "      <th>Attack</th>\n",
       "      <th>Defense</th>\n",
       "      <th>Sp. Atk</th>\n",
       "      <th>Sp. Def</th>\n",
       "      <th>Speed</th>\n",
       "      <th>Legendary</th>\n",
       "      <th>AD ratio</th>\n",
       "      <th>Class_Bug</th>\n",
       "      <th>...</th>\n",
       "      <th>Class_Ghost</th>\n",
       "      <th>Class_Grass</th>\n",
       "      <th>Class_Ground</th>\n",
       "      <th>Class_Ice</th>\n",
       "      <th>Class_Normal</th>\n",
       "      <th>Class_Poison</th>\n",
       "      <th>Class_Psychic</th>\n",
       "      <th>Class_Rock</th>\n",
       "      <th>Class_Steel</th>\n",
       "      <th>Class_Water</th>\n",
       "    </tr>\n",
       "  </thead>\n",
       "  <tbody>\n",
       "    <tr>\n",
       "      <th>0</th>\n",
       "      <td>1</td>\n",
       "      <td>45</td>\n",
       "      <td>49</td>\n",
       "      <td>49</td>\n",
       "      <td>65</td>\n",
       "      <td>65</td>\n",
       "      <td>45</td>\n",
       "      <td>False</td>\n",
       "      <td>1.000000</td>\n",
       "      <td>0</td>\n",
       "      <td>...</td>\n",
       "      <td>0</td>\n",
       "      <td>1</td>\n",
       "      <td>0</td>\n",
       "      <td>0</td>\n",
       "      <td>0</td>\n",
       "      <td>1</td>\n",
       "      <td>0</td>\n",
       "      <td>0</td>\n",
       "      <td>0</td>\n",
       "      <td>0</td>\n",
       "    </tr>\n",
       "    <tr>\n",
       "      <th>1</th>\n",
       "      <td>2</td>\n",
       "      <td>60</td>\n",
       "      <td>62</td>\n",
       "      <td>63</td>\n",
       "      <td>80</td>\n",
       "      <td>80</td>\n",
       "      <td>60</td>\n",
       "      <td>False</td>\n",
       "      <td>0.984127</td>\n",
       "      <td>0</td>\n",
       "      <td>...</td>\n",
       "      <td>0</td>\n",
       "      <td>1</td>\n",
       "      <td>0</td>\n",
       "      <td>0</td>\n",
       "      <td>0</td>\n",
       "      <td>1</td>\n",
       "      <td>0</td>\n",
       "      <td>0</td>\n",
       "      <td>0</td>\n",
       "      <td>0</td>\n",
       "    </tr>\n",
       "    <tr>\n",
       "      <th>2</th>\n",
       "      <td>3</td>\n",
       "      <td>80</td>\n",
       "      <td>82</td>\n",
       "      <td>83</td>\n",
       "      <td>100</td>\n",
       "      <td>100</td>\n",
       "      <td>80</td>\n",
       "      <td>False</td>\n",
       "      <td>0.987952</td>\n",
       "      <td>0</td>\n",
       "      <td>...</td>\n",
       "      <td>0</td>\n",
       "      <td>1</td>\n",
       "      <td>0</td>\n",
       "      <td>0</td>\n",
       "      <td>0</td>\n",
       "      <td>1</td>\n",
       "      <td>0</td>\n",
       "      <td>0</td>\n",
       "      <td>0</td>\n",
       "      <td>0</td>\n",
       "    </tr>\n",
       "    <tr>\n",
       "      <th>3</th>\n",
       "      <td>4</td>\n",
       "      <td>80</td>\n",
       "      <td>100</td>\n",
       "      <td>123</td>\n",
       "      <td>122</td>\n",
       "      <td>120</td>\n",
       "      <td>80</td>\n",
       "      <td>False</td>\n",
       "      <td>0.813008</td>\n",
       "      <td>0</td>\n",
       "      <td>...</td>\n",
       "      <td>0</td>\n",
       "      <td>1</td>\n",
       "      <td>0</td>\n",
       "      <td>0</td>\n",
       "      <td>0</td>\n",
       "      <td>1</td>\n",
       "      <td>0</td>\n",
       "      <td>0</td>\n",
       "      <td>0</td>\n",
       "      <td>0</td>\n",
       "    </tr>\n",
       "    <tr>\n",
       "      <th>4</th>\n",
       "      <td>5</td>\n",
       "      <td>39</td>\n",
       "      <td>52</td>\n",
       "      <td>43</td>\n",
       "      <td>60</td>\n",
       "      <td>50</td>\n",
       "      <td>65</td>\n",
       "      <td>False</td>\n",
       "      <td>1.209302</td>\n",
       "      <td>0</td>\n",
       "      <td>...</td>\n",
       "      <td>0</td>\n",
       "      <td>0</td>\n",
       "      <td>0</td>\n",
       "      <td>0</td>\n",
       "      <td>0</td>\n",
       "      <td>0</td>\n",
       "      <td>0</td>\n",
       "      <td>0</td>\n",
       "      <td>0</td>\n",
       "      <td>0</td>\n",
       "    </tr>\n",
       "  </tbody>\n",
       "</table>\n",
       "<p>5 rows × 27 columns</p>\n",
       "</div>"
      ],
      "text/plain": [
       "   pid  HP  Attack  Defense  Sp. Atk  Sp. Def  Speed  Legendary  AD ratio  \\\n",
       "0    1  45      49       49       65       65     45      False  1.000000   \n",
       "1    2  60      62       63       80       80     60      False  0.984127   \n",
       "2    3  80      82       83      100      100     80      False  0.987952   \n",
       "3    4  80     100      123      122      120     80      False  0.813008   \n",
       "4    5  39      52       43       60       50     65      False  1.209302   \n",
       "\n",
       "   Class_Bug  ...  Class_Ghost  Class_Grass  Class_Ground  Class_Ice  \\\n",
       "0          0  ...            0            1             0          0   \n",
       "1          0  ...            0            1             0          0   \n",
       "2          0  ...            0            1             0          0   \n",
       "3          0  ...            0            1             0          0   \n",
       "4          0  ...            0            0             0          0   \n",
       "\n",
       "   Class_Normal  Class_Poison  Class_Psychic  Class_Rock  Class_Steel  \\\n",
       "0             0             1              0           0            0   \n",
       "1             0             1              0           0            0   \n",
       "2             0             1              0           0            0   \n",
       "3             0             1              0           0            0   \n",
       "4             0             0              0           0            0   \n",
       "\n",
       "   Class_Water  \n",
       "0            0  \n",
       "1            0  \n",
       "2            0  \n",
       "3            0  \n",
       "4            0  \n",
       "\n",
       "[5 rows x 27 columns]"
      ]
     },
     "execution_count": 26,
     "metadata": {},
     "output_type": "execute_result"
    }
   ],
   "source": [
    "pkmn_features = pd.concat([pkmn['pid'], \n",
    "                           pkmn[pkmn.columns[4:]], \n",
    "                           (pkmn['Attack']/pkmn['Defense']).rename(\"AD ratio\"), \n",
    "                           one_hot_classes.add_prefix('Class_')], axis=1)\n",
    "pkmn_features.head()"
   ]
  },
  {
   "cell_type": "code",
   "execution_count": 27,
   "metadata": {},
   "outputs": [
    {
     "data": {
      "text/html": [
       "<div>\n",
       "<style scoped>\n",
       "    .dataframe tbody tr th:only-of-type {\n",
       "        vertical-align: middle;\n",
       "    }\n",
       "\n",
       "    .dataframe tbody tr th {\n",
       "        vertical-align: top;\n",
       "    }\n",
       "\n",
       "    .dataframe thead th {\n",
       "        text-align: right;\n",
       "    }\n",
       "</style>\n",
       "<table border=\"1\" class=\"dataframe\">\n",
       "  <thead>\n",
       "    <tr style=\"text-align: right;\">\n",
       "      <th></th>\n",
       "      <th>HP</th>\n",
       "      <th>Attack</th>\n",
       "      <th>Defense</th>\n",
       "      <th>Sp. Atk</th>\n",
       "      <th>Sp. Def</th>\n",
       "      <th>Speed</th>\n",
       "      <th>Legendary</th>\n",
       "      <th>AD ratio</th>\n",
       "      <th>Class_Bug</th>\n",
       "      <th>Class_Dark</th>\n",
       "      <th>...</th>\n",
       "      <th>Class_Ghost</th>\n",
       "      <th>Class_Grass</th>\n",
       "      <th>Class_Ground</th>\n",
       "      <th>Class_Ice</th>\n",
       "      <th>Class_Normal</th>\n",
       "      <th>Class_Poison</th>\n",
       "      <th>Class_Psychic</th>\n",
       "      <th>Class_Rock</th>\n",
       "      <th>Class_Steel</th>\n",
       "      <th>Class_Water</th>\n",
       "    </tr>\n",
       "    <tr>\n",
       "      <th>pid</th>\n",
       "      <th></th>\n",
       "      <th></th>\n",
       "      <th></th>\n",
       "      <th></th>\n",
       "      <th></th>\n",
       "      <th></th>\n",
       "      <th></th>\n",
       "      <th></th>\n",
       "      <th></th>\n",
       "      <th></th>\n",
       "      <th></th>\n",
       "      <th></th>\n",
       "      <th></th>\n",
       "      <th></th>\n",
       "      <th></th>\n",
       "      <th></th>\n",
       "      <th></th>\n",
       "      <th></th>\n",
       "      <th></th>\n",
       "      <th></th>\n",
       "      <th></th>\n",
       "    </tr>\n",
       "  </thead>\n",
       "  <tbody>\n",
       "    <tr>\n",
       "      <th>266</th>\n",
       "      <td>50</td>\n",
       "      <td>64</td>\n",
       "      <td>50</td>\n",
       "      <td>45</td>\n",
       "      <td>50</td>\n",
       "      <td>41</td>\n",
       "      <td>False</td>\n",
       "      <td>1.280000</td>\n",
       "      <td>0</td>\n",
       "      <td>0</td>\n",
       "      <td>...</td>\n",
       "      <td>0</td>\n",
       "      <td>0</td>\n",
       "      <td>1</td>\n",
       "      <td>0</td>\n",
       "      <td>0</td>\n",
       "      <td>0</td>\n",
       "      <td>0</td>\n",
       "      <td>1</td>\n",
       "      <td>0</td>\n",
       "      <td>0</td>\n",
       "    </tr>\n",
       "    <tr>\n",
       "      <th>702</th>\n",
       "      <td>91</td>\n",
       "      <td>90</td>\n",
       "      <td>72</td>\n",
       "      <td>90</td>\n",
       "      <td>129</td>\n",
       "      <td>108</td>\n",
       "      <td>True</td>\n",
       "      <td>1.250000</td>\n",
       "      <td>0</td>\n",
       "      <td>0</td>\n",
       "      <td>...</td>\n",
       "      <td>0</td>\n",
       "      <td>1</td>\n",
       "      <td>0</td>\n",
       "      <td>0</td>\n",
       "      <td>0</td>\n",
       "      <td>0</td>\n",
       "      <td>0</td>\n",
       "      <td>0</td>\n",
       "      <td>0</td>\n",
       "      <td>0</td>\n",
       "    </tr>\n",
       "    <tr>\n",
       "      <th>191</th>\n",
       "      <td>55</td>\n",
       "      <td>40</td>\n",
       "      <td>85</td>\n",
       "      <td>80</td>\n",
       "      <td>105</td>\n",
       "      <td>40</td>\n",
       "      <td>False</td>\n",
       "      <td>0.470588</td>\n",
       "      <td>0</td>\n",
       "      <td>0</td>\n",
       "      <td>...</td>\n",
       "      <td>0</td>\n",
       "      <td>0</td>\n",
       "      <td>0</td>\n",
       "      <td>0</td>\n",
       "      <td>0</td>\n",
       "      <td>0</td>\n",
       "      <td>0</td>\n",
       "      <td>0</td>\n",
       "      <td>0</td>\n",
       "      <td>0</td>\n",
       "    </tr>\n",
       "    <tr>\n",
       "      <th>237</th>\n",
       "      <td>40</td>\n",
       "      <td>40</td>\n",
       "      <td>40</td>\n",
       "      <td>70</td>\n",
       "      <td>40</td>\n",
       "      <td>20</td>\n",
       "      <td>False</td>\n",
       "      <td>1.000000</td>\n",
       "      <td>0</td>\n",
       "      <td>0</td>\n",
       "      <td>...</td>\n",
       "      <td>0</td>\n",
       "      <td>0</td>\n",
       "      <td>0</td>\n",
       "      <td>0</td>\n",
       "      <td>0</td>\n",
       "      <td>0</td>\n",
       "      <td>0</td>\n",
       "      <td>0</td>\n",
       "      <td>0</td>\n",
       "      <td>0</td>\n",
       "    </tr>\n",
       "    <tr>\n",
       "      <th>151</th>\n",
       "      <td>70</td>\n",
       "      <td>60</td>\n",
       "      <td>125</td>\n",
       "      <td>115</td>\n",
       "      <td>70</td>\n",
       "      <td>55</td>\n",
       "      <td>False</td>\n",
       "      <td>0.480000</td>\n",
       "      <td>0</td>\n",
       "      <td>0</td>\n",
       "      <td>...</td>\n",
       "      <td>0</td>\n",
       "      <td>0</td>\n",
       "      <td>0</td>\n",
       "      <td>0</td>\n",
       "      <td>0</td>\n",
       "      <td>0</td>\n",
       "      <td>0</td>\n",
       "      <td>1</td>\n",
       "      <td>0</td>\n",
       "      <td>1</td>\n",
       "    </tr>\n",
       "  </tbody>\n",
       "</table>\n",
       "<p>5 rows × 26 columns</p>\n",
       "</div>"
      ],
      "text/plain": [
       "     HP  Attack  Defense  Sp. Atk  Sp. Def  Speed  Legendary  AD ratio  \\\n",
       "pid                                                                      \n",
       "266  50      64       50       45       50     41      False  1.280000   \n",
       "702  91      90       72       90      129    108       True  1.250000   \n",
       "191  55      40       85       80      105     40      False  0.470588   \n",
       "237  40      40       40       70       40     20      False  1.000000   \n",
       "151  70      60      125      115       70     55      False  0.480000   \n",
       "\n",
       "     Class_Bug  Class_Dark  ...  Class_Ghost  Class_Grass  Class_Ground  \\\n",
       "pid                         ...                                           \n",
       "266          0           0  ...            0            0             1   \n",
       "702          0           0  ...            0            1             0   \n",
       "191          0           0  ...            0            0             0   \n",
       "237          0           0  ...            0            0             0   \n",
       "151          0           0  ...            0            0             0   \n",
       "\n",
       "     Class_Ice  Class_Normal  Class_Poison  Class_Psychic  Class_Rock  \\\n",
       "pid                                                                     \n",
       "266          0             0             0              0           1   \n",
       "702          0             0             0              0           0   \n",
       "191          0             0             0              0           0   \n",
       "237          0             0             0              0           0   \n",
       "151          0             0             0              0           1   \n",
       "\n",
       "     Class_Steel  Class_Water  \n",
       "pid                            \n",
       "266            0            0  \n",
       "702            0            0  \n",
       "191            0            0  \n",
       "237            0            0  \n",
       "151            0            1  \n",
       "\n",
       "[5 rows x 26 columns]"
      ]
     },
     "execution_count": 27,
     "metadata": {},
     "output_type": "execute_result"
    }
   ],
   "source": [
    "battle_first = pkmn_features.set_index('pid').reindex(duels['First_pokemon'].values)\n",
    "battle_first.head()"
   ]
  },
  {
   "cell_type": "code",
   "execution_count": 28,
   "metadata": {},
   "outputs": [
    {
     "data": {
      "text/html": [
       "<div>\n",
       "<style scoped>\n",
       "    .dataframe tbody tr th:only-of-type {\n",
       "        vertical-align: middle;\n",
       "    }\n",
       "\n",
       "    .dataframe tbody tr th {\n",
       "        vertical-align: top;\n",
       "    }\n",
       "\n",
       "    .dataframe thead th {\n",
       "        text-align: right;\n",
       "    }\n",
       "</style>\n",
       "<table border=\"1\" class=\"dataframe\">\n",
       "  <thead>\n",
       "    <tr style=\"text-align: right;\">\n",
       "      <th></th>\n",
       "      <th>HP</th>\n",
       "      <th>Attack</th>\n",
       "      <th>Defense</th>\n",
       "      <th>Sp. Atk</th>\n",
       "      <th>Sp. Def</th>\n",
       "      <th>Speed</th>\n",
       "      <th>Legendary</th>\n",
       "      <th>AD ratio</th>\n",
       "      <th>Class_Bug</th>\n",
       "      <th>Class_Dark</th>\n",
       "      <th>...</th>\n",
       "      <th>Class_Ghost</th>\n",
       "      <th>Class_Grass</th>\n",
       "      <th>Class_Ground</th>\n",
       "      <th>Class_Ice</th>\n",
       "      <th>Class_Normal</th>\n",
       "      <th>Class_Poison</th>\n",
       "      <th>Class_Psychic</th>\n",
       "      <th>Class_Rock</th>\n",
       "      <th>Class_Steel</th>\n",
       "      <th>Class_Water</th>\n",
       "    </tr>\n",
       "    <tr>\n",
       "      <th>pid</th>\n",
       "      <th></th>\n",
       "      <th></th>\n",
       "      <th></th>\n",
       "      <th></th>\n",
       "      <th></th>\n",
       "      <th></th>\n",
       "      <th></th>\n",
       "      <th></th>\n",
       "      <th></th>\n",
       "      <th></th>\n",
       "      <th></th>\n",
       "      <th></th>\n",
       "      <th></th>\n",
       "      <th></th>\n",
       "      <th></th>\n",
       "      <th></th>\n",
       "      <th></th>\n",
       "      <th></th>\n",
       "      <th></th>\n",
       "      <th></th>\n",
       "      <th></th>\n",
       "    </tr>\n",
       "  </thead>\n",
       "  <tbody>\n",
       "    <tr>\n",
       "      <th>298</th>\n",
       "      <td>70</td>\n",
       "      <td>70</td>\n",
       "      <td>40</td>\n",
       "      <td>60</td>\n",
       "      <td>40</td>\n",
       "      <td>60</td>\n",
       "      <td>False</td>\n",
       "      <td>1.750000</td>\n",
       "      <td>0</td>\n",
       "      <td>1</td>\n",
       "      <td>...</td>\n",
       "      <td>0</td>\n",
       "      <td>1</td>\n",
       "      <td>0</td>\n",
       "      <td>0</td>\n",
       "      <td>0</td>\n",
       "      <td>0</td>\n",
       "      <td>0</td>\n",
       "      <td>0</td>\n",
       "      <td>0</td>\n",
       "      <td>0</td>\n",
       "    </tr>\n",
       "    <tr>\n",
       "      <th>701</th>\n",
       "      <td>91</td>\n",
       "      <td>129</td>\n",
       "      <td>90</td>\n",
       "      <td>72</td>\n",
       "      <td>90</td>\n",
       "      <td>108</td>\n",
       "      <td>True</td>\n",
       "      <td>1.433333</td>\n",
       "      <td>0</td>\n",
       "      <td>0</td>\n",
       "      <td>...</td>\n",
       "      <td>0</td>\n",
       "      <td>0</td>\n",
       "      <td>0</td>\n",
       "      <td>0</td>\n",
       "      <td>0</td>\n",
       "      <td>0</td>\n",
       "      <td>0</td>\n",
       "      <td>1</td>\n",
       "      <td>0</td>\n",
       "      <td>0</td>\n",
       "    </tr>\n",
       "    <tr>\n",
       "      <th>668</th>\n",
       "      <td>75</td>\n",
       "      <td>75</td>\n",
       "      <td>75</td>\n",
       "      <td>125</td>\n",
       "      <td>95</td>\n",
       "      <td>40</td>\n",
       "      <td>False</td>\n",
       "      <td>1.000000</td>\n",
       "      <td>0</td>\n",
       "      <td>0</td>\n",
       "      <td>...</td>\n",
       "      <td>0</td>\n",
       "      <td>0</td>\n",
       "      <td>0</td>\n",
       "      <td>0</td>\n",
       "      <td>0</td>\n",
       "      <td>0</td>\n",
       "      <td>1</td>\n",
       "      <td>0</td>\n",
       "      <td>0</td>\n",
       "      <td>0</td>\n",
       "    </tr>\n",
       "    <tr>\n",
       "      <th>683</th>\n",
       "      <td>77</td>\n",
       "      <td>120</td>\n",
       "      <td>90</td>\n",
       "      <td>60</td>\n",
       "      <td>90</td>\n",
       "      <td>48</td>\n",
       "      <td>False</td>\n",
       "      <td>1.333333</td>\n",
       "      <td>0</td>\n",
       "      <td>0</td>\n",
       "      <td>...</td>\n",
       "      <td>0</td>\n",
       "      <td>0</td>\n",
       "      <td>0</td>\n",
       "      <td>0</td>\n",
       "      <td>0</td>\n",
       "      <td>0</td>\n",
       "      <td>0</td>\n",
       "      <td>0</td>\n",
       "      <td>0</td>\n",
       "      <td>0</td>\n",
       "    </tr>\n",
       "    <tr>\n",
       "      <th>231</th>\n",
       "      <td>20</td>\n",
       "      <td>10</td>\n",
       "      <td>230</td>\n",
       "      <td>10</td>\n",
       "      <td>230</td>\n",
       "      <td>5</td>\n",
       "      <td>False</td>\n",
       "      <td>0.043478</td>\n",
       "      <td>1</td>\n",
       "      <td>0</td>\n",
       "      <td>...</td>\n",
       "      <td>0</td>\n",
       "      <td>0</td>\n",
       "      <td>0</td>\n",
       "      <td>0</td>\n",
       "      <td>0</td>\n",
       "      <td>0</td>\n",
       "      <td>0</td>\n",
       "      <td>1</td>\n",
       "      <td>0</td>\n",
       "      <td>0</td>\n",
       "    </tr>\n",
       "  </tbody>\n",
       "</table>\n",
       "<p>5 rows × 26 columns</p>\n",
       "</div>"
      ],
      "text/plain": [
       "     HP  Attack  Defense  Sp. Atk  Sp. Def  Speed  Legendary  AD ratio  \\\n",
       "pid                                                                      \n",
       "298  70      70       40       60       40     60      False  1.750000   \n",
       "701  91     129       90       72       90    108       True  1.433333   \n",
       "668  75      75       75      125       95     40      False  1.000000   \n",
       "683  77     120       90       60       90     48      False  1.333333   \n",
       "231  20      10      230       10      230      5      False  0.043478   \n",
       "\n",
       "     Class_Bug  Class_Dark  ...  Class_Ghost  Class_Grass  Class_Ground  \\\n",
       "pid                         ...                                           \n",
       "298          0           1  ...            0            1             0   \n",
       "701          0           0  ...            0            0             0   \n",
       "668          0           0  ...            0            0             0   \n",
       "683          0           0  ...            0            0             0   \n",
       "231          1           0  ...            0            0             0   \n",
       "\n",
       "     Class_Ice  Class_Normal  Class_Poison  Class_Psychic  Class_Rock  \\\n",
       "pid                                                                     \n",
       "298          0             0             0              0           0   \n",
       "701          0             0             0              0           1   \n",
       "668          0             0             0              1           0   \n",
       "683          0             0             0              0           0   \n",
       "231          0             0             0              0           1   \n",
       "\n",
       "     Class_Steel  Class_Water  \n",
       "pid                            \n",
       "298            0            0  \n",
       "701            0            0  \n",
       "668            0            0  \n",
       "683            0            0  \n",
       "231            0            0  \n",
       "\n",
       "[5 rows x 26 columns]"
      ]
     },
     "execution_count": 28,
     "metadata": {},
     "output_type": "execute_result"
    }
   ],
   "source": [
    "battle_second = pkmn_features.set_index('pid').reindex(duels['Second_pokemon'].values)\n",
    "battle_second.head()"
   ]
  },
  {
   "cell_type": "code",
   "execution_count": 29,
   "metadata": {},
   "outputs": [
    {
     "data": {
      "text/html": [
       "<div>\n",
       "<style scoped>\n",
       "    .dataframe tbody tr th:only-of-type {\n",
       "        vertical-align: middle;\n",
       "    }\n",
       "\n",
       "    .dataframe tbody tr th {\n",
       "        vertical-align: top;\n",
       "    }\n",
       "\n",
       "    .dataframe thead th {\n",
       "        text-align: right;\n",
       "    }\n",
       "</style>\n",
       "<table border=\"1\" class=\"dataframe\">\n",
       "  <thead>\n",
       "    <tr style=\"text-align: right;\">\n",
       "      <th></th>\n",
       "      <th>First_HP</th>\n",
       "      <th>First_Attack</th>\n",
       "      <th>First_Defense</th>\n",
       "      <th>First_Sp. Atk</th>\n",
       "      <th>First_Sp. Def</th>\n",
       "      <th>First_Speed</th>\n",
       "      <th>First_Legendary</th>\n",
       "      <th>First_AD ratio</th>\n",
       "      <th>First_Class_Bug</th>\n",
       "      <th>First_Class_Dark</th>\n",
       "      <th>...</th>\n",
       "      <th>Second_Class_Ghost</th>\n",
       "      <th>Second_Class_Grass</th>\n",
       "      <th>Second_Class_Ground</th>\n",
       "      <th>Second_Class_Ice</th>\n",
       "      <th>Second_Class_Normal</th>\n",
       "      <th>Second_Class_Poison</th>\n",
       "      <th>Second_Class_Psychic</th>\n",
       "      <th>Second_Class_Rock</th>\n",
       "      <th>Second_Class_Steel</th>\n",
       "      <th>Second_Class_Water</th>\n",
       "    </tr>\n",
       "  </thead>\n",
       "  <tbody>\n",
       "    <tr>\n",
       "      <th>0</th>\n",
       "      <td>50</td>\n",
       "      <td>64</td>\n",
       "      <td>50</td>\n",
       "      <td>45</td>\n",
       "      <td>50</td>\n",
       "      <td>41</td>\n",
       "      <td>False</td>\n",
       "      <td>1.280000</td>\n",
       "      <td>0</td>\n",
       "      <td>0</td>\n",
       "      <td>...</td>\n",
       "      <td>0</td>\n",
       "      <td>1</td>\n",
       "      <td>0</td>\n",
       "      <td>0</td>\n",
       "      <td>0</td>\n",
       "      <td>0</td>\n",
       "      <td>0</td>\n",
       "      <td>0</td>\n",
       "      <td>0</td>\n",
       "      <td>0</td>\n",
       "    </tr>\n",
       "    <tr>\n",
       "      <th>1</th>\n",
       "      <td>91</td>\n",
       "      <td>90</td>\n",
       "      <td>72</td>\n",
       "      <td>90</td>\n",
       "      <td>129</td>\n",
       "      <td>108</td>\n",
       "      <td>True</td>\n",
       "      <td>1.250000</td>\n",
       "      <td>0</td>\n",
       "      <td>0</td>\n",
       "      <td>...</td>\n",
       "      <td>0</td>\n",
       "      <td>0</td>\n",
       "      <td>0</td>\n",
       "      <td>0</td>\n",
       "      <td>0</td>\n",
       "      <td>0</td>\n",
       "      <td>0</td>\n",
       "      <td>1</td>\n",
       "      <td>0</td>\n",
       "      <td>0</td>\n",
       "    </tr>\n",
       "    <tr>\n",
       "      <th>2</th>\n",
       "      <td>55</td>\n",
       "      <td>40</td>\n",
       "      <td>85</td>\n",
       "      <td>80</td>\n",
       "      <td>105</td>\n",
       "      <td>40</td>\n",
       "      <td>False</td>\n",
       "      <td>0.470588</td>\n",
       "      <td>0</td>\n",
       "      <td>0</td>\n",
       "      <td>...</td>\n",
       "      <td>0</td>\n",
       "      <td>0</td>\n",
       "      <td>0</td>\n",
       "      <td>0</td>\n",
       "      <td>0</td>\n",
       "      <td>0</td>\n",
       "      <td>1</td>\n",
       "      <td>0</td>\n",
       "      <td>0</td>\n",
       "      <td>0</td>\n",
       "    </tr>\n",
       "    <tr>\n",
       "      <th>3</th>\n",
       "      <td>40</td>\n",
       "      <td>40</td>\n",
       "      <td>40</td>\n",
       "      <td>70</td>\n",
       "      <td>40</td>\n",
       "      <td>20</td>\n",
       "      <td>False</td>\n",
       "      <td>1.000000</td>\n",
       "      <td>0</td>\n",
       "      <td>0</td>\n",
       "      <td>...</td>\n",
       "      <td>0</td>\n",
       "      <td>0</td>\n",
       "      <td>0</td>\n",
       "      <td>0</td>\n",
       "      <td>0</td>\n",
       "      <td>0</td>\n",
       "      <td>0</td>\n",
       "      <td>0</td>\n",
       "      <td>0</td>\n",
       "      <td>0</td>\n",
       "    </tr>\n",
       "    <tr>\n",
       "      <th>4</th>\n",
       "      <td>70</td>\n",
       "      <td>60</td>\n",
       "      <td>125</td>\n",
       "      <td>115</td>\n",
       "      <td>70</td>\n",
       "      <td>55</td>\n",
       "      <td>False</td>\n",
       "      <td>0.480000</td>\n",
       "      <td>0</td>\n",
       "      <td>0</td>\n",
       "      <td>...</td>\n",
       "      <td>0</td>\n",
       "      <td>0</td>\n",
       "      <td>0</td>\n",
       "      <td>0</td>\n",
       "      <td>0</td>\n",
       "      <td>0</td>\n",
       "      <td>0</td>\n",
       "      <td>1</td>\n",
       "      <td>0</td>\n",
       "      <td>0</td>\n",
       "    </tr>\n",
       "  </tbody>\n",
       "</table>\n",
       "<p>5 rows × 52 columns</p>\n",
       "</div>"
      ],
      "text/plain": [
       "   First_HP  First_Attack  First_Defense  First_Sp. Atk  First_Sp. Def  \\\n",
       "0        50            64             50             45             50   \n",
       "1        91            90             72             90            129   \n",
       "2        55            40             85             80            105   \n",
       "3        40            40             40             70             40   \n",
       "4        70            60            125            115             70   \n",
       "\n",
       "   First_Speed  First_Legendary  First_AD ratio  First_Class_Bug  \\\n",
       "0           41            False        1.280000                0   \n",
       "1          108             True        1.250000                0   \n",
       "2           40            False        0.470588                0   \n",
       "3           20            False        1.000000                0   \n",
       "4           55            False        0.480000                0   \n",
       "\n",
       "   First_Class_Dark  ...  Second_Class_Ghost  Second_Class_Grass  \\\n",
       "0                 0  ...                   0                   1   \n",
       "1                 0  ...                   0                   0   \n",
       "2                 0  ...                   0                   0   \n",
       "3                 0  ...                   0                   0   \n",
       "4                 0  ...                   0                   0   \n",
       "\n",
       "   Second_Class_Ground  Second_Class_Ice  Second_Class_Normal  \\\n",
       "0                    0                 0                    0   \n",
       "1                    0                 0                    0   \n",
       "2                    0                 0                    0   \n",
       "3                    0                 0                    0   \n",
       "4                    0                 0                    0   \n",
       "\n",
       "   Second_Class_Poison  Second_Class_Psychic  Second_Class_Rock  \\\n",
       "0                    0                     0                  0   \n",
       "1                    0                     0                  1   \n",
       "2                    0                     1                  0   \n",
       "3                    0                     0                  0   \n",
       "4                    0                     0                  1   \n",
       "\n",
       "   Second_Class_Steel  Second_Class_Water  \n",
       "0                   0                   0  \n",
       "1                   0                   0  \n",
       "2                   0                   0  \n",
       "3                   0                   0  \n",
       "4                   0                   0  \n",
       "\n",
       "[5 rows x 52 columns]"
      ]
     },
     "execution_count": 29,
     "metadata": {},
     "output_type": "execute_result"
    }
   ],
   "source": [
    "battles = pd.concat([battle_first.reset_index().add_prefix('First_'), \n",
    "                     battle_second.reset_index().add_prefix('Second_')], \n",
    "                     axis=1).drop(['First_pid', 'Second_pid'], axis=1)\n",
    "battles.head()"
   ]
  },
  {
   "cell_type": "markdown",
   "metadata": {},
   "source": [
    "### 2.3: Training as requested"
   ]
  },
  {
   "cell_type": "code",
   "execution_count": 30,
   "metadata": {},
   "outputs": [
    {
     "data": {
      "text/plain": [
       "1    26399\n",
       "0    23601\n",
       "Name: labels, dtype: int64"
      ]
     },
     "execution_count": 30,
     "metadata": {},
     "output_type": "execute_result"
    }
   ],
   "source": [
    "duels['labels'].value_counts()"
   ]
  },
  {
   "cell_type": "code",
   "execution_count": 31,
   "metadata": {},
   "outputs": [],
   "source": [
    "np.random.seed(0)\n",
    "test_ind = np.random.choice(battles.shape[0], int(battles.shape[0]/10), replace=False)"
   ]
  },
  {
   "cell_type": "code",
   "execution_count": 32,
   "metadata": {},
   "outputs": [
    {
     "data": {
      "text/plain": [
       "(5000, 52)"
      ]
     },
     "execution_count": 32,
     "metadata": {},
     "output_type": "execute_result"
    }
   ],
   "source": [
    "test_set = battles.reindex(test_ind)\n",
    "test_labels = duels['labels'].reindex(test_ind)\n",
    "test_set.shape"
   ]
  },
  {
   "cell_type": "code",
   "execution_count": 33,
   "metadata": {},
   "outputs": [
    {
     "data": {
      "text/plain": [
       "(45000, 52)"
      ]
     },
     "execution_count": 33,
     "metadata": {},
     "output_type": "execute_result"
    }
   ],
   "source": [
    "train_set = battles.drop(test_ind, axis=0)\n",
    "train_labels = duels.drop(test_ind, axis=0)['labels']\n",
    "train_set.shape"
   ]
  },
  {
   "cell_type": "markdown",
   "metadata": {},
   "source": [
    "I don't want to use the test set as validation set (bad practice), so I will add a k-fold validation in the training phase that works as validation set."
   ]
  },
  {
   "cell_type": "code",
   "execution_count": 34,
   "metadata": {
    "scrolled": true
   },
   "outputs": [
    {
     "name": "stdout",
     "output_type": "stream",
     "text": [
      "0.796688888888889\n",
      "0.8344888888888888\n",
      "0.9009555555555554\n",
      "0.7868222222222223\n",
      "0.8260666666666665\n",
      "0.9092666666666667\n",
      "0.7871111111111111\n",
      "0.8353111111111111\n",
      "0.9118666666666666\n",
      "0.7874888888888889\n",
      "0.8388222222222221\n",
      "0.9136222222222223\n"
     ]
    }
   ],
   "source": [
    "from sklearn.ensemble import RandomForestClassifier\n",
    "from sklearn.model_selection import KFold\n",
    "from sklearn.metrics import accuracy_score\n",
    "\n",
    "rndm_state = 12\n",
    "\n",
    "# Initialisation\n",
    "winner_param = {'n_estimators': 0, 'max_depth': 0}\n",
    "estim_param = [10, 25, 50, 100]\n",
    "depth_param = [2, 4, 10]\n",
    "best_result = 0\n",
    "\n",
    "# Hand-made grid search\n",
    "for ne in estim_param:\n",
    "    for md in depth_param:\n",
    "        fold_scores = []\n",
    "        kf = KFold(n_splits=10, random_state=rndm_state, shuffle=True)\n",
    "        kf.get_n_splits(train_set)\n",
    "        for train_index, test_index in kf.split(train_set):\n",
    "            X_train, X_test = train_set.values[train_index], train_set.values[test_index]\n",
    "            y_train, y_test = train_labels.values[train_index], train_labels.values[test_index]\n",
    "            clf = RandomForestClassifier(n_estimators=ne, max_depth=md, random_state=rndm_state)\n",
    "            clf.fit(X_train, y_train)\n",
    "            \n",
    "            y_pred = clf.predict(X_test)\n",
    "            fold_acc = accuracy_score(y_test, y_pred)\n",
    "            fold_scores.append(fold_acc)\n",
    "        trial_score = np.mean(fold_scores)\n",
    "        print(trial_score) # print intermediate results\n",
    "        if trial_score > best_result:\n",
    "            best_result = trial_score\n",
    "            winner_param['n_estimators'] = ne\n",
    "            winner_param['max_depth'] = md\n",
    "        else:\n",
    "            pass"
   ]
  },
  {
   "cell_type": "code",
   "execution_count": 35,
   "metadata": {},
   "outputs": [
    {
     "name": "stdout",
     "output_type": "stream",
     "text": [
      "2.4 - The best combination of parameters is {'n_estimators': 100, 'max_depth': 10}, the cross validation accuracy score is 0.914.\n"
     ]
    }
   ],
   "source": [
    "print(f\"2.4 - The best combination of parameters is {winner_param}, the cross validation accuracy score is {round(best_result, 3)}.\")"
   ]
  },
  {
   "cell_type": "code",
   "execution_count": 36,
   "metadata": {},
   "outputs": [
    {
     "name": "stdout",
     "output_type": "stream",
     "text": [
      "Accuracy on test set is 0.9134\n"
     ]
    }
   ],
   "source": [
    "clf = RandomForestClassifier(**winner_param, random_state=rndm_state)\n",
    "clf.fit(train_set.values, train_labels.values)\n",
    "y_pred = clf.predict(test_set.values)\n",
    "test_acc = accuracy_score(test_labels.values, y_pred)\n",
    "print(f'Accuracy on test set is {test_acc}')"
   ]
  },
  {
   "cell_type": "markdown",
   "metadata": {},
   "source": [
    "#### 2.5\n",
    "I set the test set aside in order to avoid data leakage.\n",
    "\n",
    "On the other hand, the fact that we are randomly sampling the test set means that it could contain pokémon that the model has already seen. For example if the model sees Mewtwo in the training set, it is easy for it to guess that it will win in battles in the test set, same thing for Magikarp which is likely to loose any battle.\n",
    "\n",
    "For this reason, I think a more clever approach should be to use a group-fold method, leaving some unseen pokémon in the test set, so the model only uses the features (and not their known combination) to predict the outcome.\n",
    "#### 2.6"
   ]
  },
  {
   "cell_type": "code",
   "execution_count": 37,
   "metadata": {},
   "outputs": [
    {
     "data": {
      "text/plain": [
       "0    [266, 298]\n",
       "1    [702, 701]\n",
       "2    [191, 668]\n",
       "3    [237, 683]\n",
       "4    [151, 231]\n",
       "dtype: object"
      ]
     },
     "execution_count": 37,
     "metadata": {},
     "output_type": "execute_result"
    }
   ],
   "source": [
    "duels_ids = pd.Series(duels[['First_pokemon', 'Second_pokemon']].values.tolist(), index=duels.index)\n",
    "duels_ids.head()"
   ]
  },
  {
   "cell_type": "markdown",
   "metadata": {},
   "source": [
    "Create a random permutation of the 800 Pokémon to be used as test set and as group k-folds.\n",
    "Each fold will have 100 Pokémon, so 1 test set + 7 folds in training."
   ]
  },
  {
   "cell_type": "code",
   "execution_count": 38,
   "metadata": {},
   "outputs": [],
   "source": [
    "np.random.seed(rndm_state)\n",
    "pkmn_permutation = np.random.permutation(pkmn['pid'])"
   ]
  },
  {
   "cell_type": "code",
   "execution_count": 39,
   "metadata": {},
   "outputs": [
    {
     "data": {
      "text/plain": [
       "100"
      ]
     },
     "execution_count": 39,
     "metadata": {},
     "output_type": "execute_result"
    }
   ],
   "source": [
    "test_pkmn_ind = list(pkmn_permutation[:100])\n",
    "len(test_pkmn_ind)    "
   ]
  },
  {
   "cell_type": "code",
   "execution_count": 40,
   "metadata": {},
   "outputs": [],
   "source": [
    "group_folds = {}\n",
    "for i in range(1,8):\n",
    "    group_folds[i-1] = list(pkmn_permutation[i*100:(i+1)*100])"
   ]
  },
  {
   "cell_type": "code",
   "execution_count": 41,
   "metadata": {},
   "outputs": [],
   "source": [
    "def drop_pkmn_from_duels(pkmn_ind, duels_ids):\n",
    "    duels_clean = [d if (d[0] not in pkmn_ind and d[1] not in pkmn_ind) else None for d in duels_ids]\n",
    "    duels_train_set = pd.Series(duels_clean, index=duels_ids.index)\n",
    "    duels_test_set = duels_ids.loc[duels_train_set.isna()]\n",
    "    return duels_train_set.dropna(), duels_test_set"
   ]
  },
  {
   "cell_type": "code",
   "execution_count": 42,
   "metadata": {},
   "outputs": [
    {
     "data": {
      "text/plain": [
       "((50000,), (38177,), (11823,))"
      ]
     },
     "execution_count": 42,
     "metadata": {},
     "output_type": "execute_result"
    }
   ],
   "source": [
    "duels_train_set, duels_test_set = drop_pkmn_from_duels(test_pkmn_ind, duels_ids)\n",
    "duels_ids.shape, duels_train_set.shape, duels_test_set.shape"
   ]
  },
  {
   "cell_type": "code",
   "execution_count": 43,
   "metadata": {},
   "outputs": [
    {
     "data": {
      "text/plain": [
       "(11823, 52)"
      ]
     },
     "execution_count": 43,
     "metadata": {},
     "output_type": "execute_result"
    }
   ],
   "source": [
    "test_set = battles.reindex(duels_test_set.index)\n",
    "test_labels = duels['labels'].reindex(duels_test_set.index)\n",
    "test_set.shape"
   ]
  },
  {
   "cell_type": "code",
   "execution_count": 44,
   "metadata": {},
   "outputs": [
    {
     "data": {
      "text/plain": [
       "(38177, 52)"
      ]
     },
     "execution_count": 44,
     "metadata": {},
     "output_type": "execute_result"
    }
   ],
   "source": [
    "train_set = battles.reindex(duels_train_set.index)\n",
    "train_labels = duels['labels'].reindex(duels_train_set.index)\n",
    "train_set.shape"
   ]
  },
  {
   "cell_type": "code",
   "execution_count": 45,
   "metadata": {},
   "outputs": [
    {
     "name": "stdout",
     "output_type": "stream",
     "text": [
      "0.789152952455935\n",
      "0.8303852231604888\n",
      "0.8876315864769647\n",
      "0.782124472056381\n",
      "0.8221565356715564\n",
      "0.8937914924054101\n",
      "0.7838864756025631\n",
      "0.8306864950089635\n",
      "0.8978618378645888\n",
      "0.7815183605474941\n",
      "0.8325218692811297\n",
      "0.8990062149499568\n"
     ]
    }
   ],
   "source": [
    "# Initialisation\n",
    "winner_param = {'n_estimators': 0, 'max_depth': 0}\n",
    "estim_param = [10, 25, 50, 100]\n",
    "depth_param = [2, 4, 10]\n",
    "best_result = 0\n",
    "\n",
    "# Hand-made grid search\n",
    "for ne in estim_param:\n",
    "    for md in depth_param:\n",
    "        fold_scores = []\n",
    "        for k, ind_list in group_folds.items():\n",
    "            duels_train, duels_test = drop_pkmn_from_duels(ind_list, duels_train_set)\n",
    "            X_train = train_set.reindex(duels_train.index).values\n",
    "            X_test = train_set.reindex(duels_test.index).values\n",
    "            y_train = train_labels.reindex(duels_train.index).values\n",
    "            y_test = train_labels.reindex(duels_test.index).values\n",
    "            \n",
    "            clf = RandomForestClassifier(n_estimators=ne, max_depth=md, random_state=rndm_state)\n",
    "            clf.fit(X_train, y_train)\n",
    "            \n",
    "            y_pred = clf.predict(X_test)\n",
    "            fold_acc = accuracy_score(y_test, y_pred)\n",
    "            fold_scores.append(fold_acc)\n",
    "        trial_score = np.mean(fold_scores)\n",
    "        print(trial_score) # print intermediate results\n",
    "        if trial_score > best_result:\n",
    "            best_result = trial_score\n",
    "            winner_param['n_estimators'] = ne\n",
    "            winner_param['max_depth'] = md\n",
    "        else:\n",
    "            pass"
   ]
  },
  {
   "cell_type": "code",
   "execution_count": 46,
   "metadata": {},
   "outputs": [
    {
     "name": "stdout",
     "output_type": "stream",
     "text": [
      "2.6 - The best combination of parameters is {'n_estimators': 100, 'max_depth': 10}, the cross validation accuracy score is 0.899.\n"
     ]
    }
   ],
   "source": [
    "print(f\"2.6 - The best combination of parameters is {winner_param}, the cross validation accuracy score is {round(best_result, 3)}.\")"
   ]
  },
  {
   "cell_type": "code",
   "execution_count": 47,
   "metadata": {},
   "outputs": [
    {
     "name": "stdout",
     "output_type": "stream",
     "text": [
      "Accuracy on test set is 0.9171107164002368\n"
     ]
    }
   ],
   "source": [
    "clf = RandomForestClassifier(**winner_param, random_state=rndm_state)\n",
    "clf.fit(train_set.values, train_labels.values)\n",
    "y_pred = clf.predict(test_set.values)\n",
    "test_acc = accuracy_score(test_labels.values, y_pred)\n",
    "print(f'Accuracy on test set is {test_acc}')"
   ]
  },
  {
   "cell_type": "markdown",
   "metadata": {},
   "source": [
    "The improvement of the result on the test set is very modest, but the current test set is more than twice the size of the previous test set. \n",
    "\n",
    "The process that we followed ensures that the model is able to infer on unseen pokemon. Indeed, it was able to obtain high accuracy on the test set even if the cross validation score was lower than the first time (see 2.4), so I feel more confident that this model is able to generalise.\n",
    "\n",
    "Since this dataset has ~50 columns, the results could be improved with a more complex set of parameters (200 estimators and 20 max depth) which allows the trees to explore the space more in depth; otherwise I should craft more complex features, so that the random forest start with a set of processed features that saves some iterations to separate the decision space."
   ]
  },
  {
   "cell_type": "markdown",
   "metadata": {},
   "source": [
    "#### 2.7"
   ]
  },
  {
   "cell_type": "code",
   "execution_count": 48,
   "metadata": {},
   "outputs": [
    {
     "data": {
      "text/plain": [
       "Text(0.5, 1.0, 'Feature importance of the 10 most predictive variables')"
      ]
     },
     "execution_count": 48,
     "metadata": {},
     "output_type": "execute_result"
    },
    {
     "data": {
      "image/png": "[encoded data removed]",
      "text/plain": [
       "<Figure size 432x288 with 1 Axes>"
      ]
     },
     "metadata": {
      "needs_background": "light"
     },
     "output_type": "display_data"
    }
   ],
   "source": [
    "ax = pd.Series(clf.feature_importances_, index=train_set.columns).sort_values(ascending=False)[:10].plot.barh()\n",
    "ax.set_title('Feature importance of the 10 most predictive variables')"
   ]
  },
  {
   "cell_type": "markdown",
   "metadata": {},
   "source": [
    "## Question 3: Ranking\n",
    "Something the new Pokedex is missing is a smart way of ranking the Pokémon. As the dataset Professor Oak gave you contains the outcome of a large number of battles, the idea is to use this data to come up with a way of sorting the Pokémon from strongest to weakest.\n",
    "1. Compute the winning ratio (number of wins divided by number of battles) for all Pokémon. Show the 10 Pokémon with the highest ratio and describe what they have in common with respect to their features. Discuss your results about feature importance from question 2.7 (regarding feature importance) in this context.\n",
    "\n",
    "Pokémon tournaments can be represented as a so-called _dominance graph_. The dominance graph is a directed graph in which each Pokémon is represented by one vertex, and directed edges point from stronger to weaker Pokémons: in particular, if Pokémon _i_ has won a strictly larger number of times against Pokémon _j_ than _j_ has won against _i_ (that is, if _i_ dominates _j_), there is a directed edge pointing from node _i_ to node _j_. The dominance graph can be represented as an adjacency matrix _G_ where entry _G_<sub>_ij_</sub> is 1 if there is an edge pointing from _i_ to _j_, and 0 otherwise.\n",
    "\n",
    "2. A simple method for identifying the strongest Pokémon using this graph is to compute the matrix _A_ = _G_ + _G_<sup>2</sup>. Consider a given row of _A_; summing up all elements of that row results in a dominance score for the respective Pokémon. Explain what this score represents and why it may be interpreted as capturing the dominance of a Pokémon.\n",
    "3. Compute _A_ and extract the 10 Pokémon with the highest dominance score.\n",
    "4. Compare the ranking by dominance scores with the ranking by winning ratio (cf. subquestion 1 above). What do you observe? How do you explain the differences (if any)?\n",
    "5. Professor Oak is really keen on featuring a solid ranking mechanism in the new Pokedex, so you need to make a decision: Which scoring method is better, that based on winning ratio or that based on dominance scores? Support your opinion with explanations and examples."
   ]
  },
  {
   "cell_type": "code",
   "execution_count": 49,
   "metadata": {},
   "outputs": [],
   "source": [
    "num_of_battles = duels['First_pokemon'].value_counts() + duels['Second_pokemon'].value_counts()\n",
    "num_of_wins = duels['Winner'].value_counts()\n",
    "num_of_battles, num_of_wins = num_of_battles.align(num_of_wins, join='outer') # to account for pokémon who always lost\n",
    "num_of_wins.fillna(0, inplace=True)\n",
    "winning_ratio = num_of_wins/num_of_battles"
   ]
  },
  {
   "cell_type": "code",
   "execution_count": 50,
   "metadata": {},
   "outputs": [
    {
     "name": "stdout",
     "output_type": "stream",
     "text": [
      "The 10 Pokémon with the highest winning ratio:\n"
     ]
    },
    {
     "data": {
      "text/html": [
       "<div>\n",
       "<style scoped>\n",
       "    .dataframe tbody tr th:only-of-type {\n",
       "        vertical-align: middle;\n",
       "    }\n",
       "\n",
       "    .dataframe tbody tr th {\n",
       "        vertical-align: top;\n",
       "    }\n",
       "\n",
       "    .dataframe thead th {\n",
       "        text-align: right;\n",
       "    }\n",
       "</style>\n",
       "<table border=\"1\" class=\"dataframe\">\n",
       "  <thead>\n",
       "    <tr style=\"text-align: right;\">\n",
       "      <th></th>\n",
       "      <th>Name</th>\n",
       "      <th>Winning ratio</th>\n",
       "    </tr>\n",
       "  </thead>\n",
       "  <tbody>\n",
       "    <tr>\n",
       "      <th>155</th>\n",
       "      <td>Mega Aerodactyl</td>\n",
       "      <td>0.984496</td>\n",
       "    </tr>\n",
       "    <tr>\n",
       "      <th>513</th>\n",
       "      <td>Weavile</td>\n",
       "      <td>0.974790</td>\n",
       "    </tr>\n",
       "    <tr>\n",
       "      <th>704</th>\n",
       "      <td>Tornadus Therian Forme</td>\n",
       "      <td>0.968000</td>\n",
       "    </tr>\n",
       "    <tr>\n",
       "      <th>20</th>\n",
       "      <td>Mega Beedrill</td>\n",
       "      <td>0.966387</td>\n",
       "    </tr>\n",
       "    <tr>\n",
       "      <th>154</th>\n",
       "      <td>Aerodactyl</td>\n",
       "      <td>0.964539</td>\n",
       "    </tr>\n",
       "    <tr>\n",
       "      <th>477</th>\n",
       "      <td>Mega Lopunny</td>\n",
       "      <td>0.961240</td>\n",
       "    </tr>\n",
       "    <tr>\n",
       "      <th>727</th>\n",
       "      <td>Greninja</td>\n",
       "      <td>0.960630</td>\n",
       "    </tr>\n",
       "    <tr>\n",
       "      <th>717</th>\n",
       "      <td>Meloetta Pirouette Forme</td>\n",
       "      <td>0.959350</td>\n",
       "    </tr>\n",
       "    <tr>\n",
       "      <th>165</th>\n",
       "      <td>Mega Mewtwo Y</td>\n",
       "      <td>0.952000</td>\n",
       "    </tr>\n",
       "    <tr>\n",
       "      <th>350</th>\n",
       "      <td>Mega Sharpedo</td>\n",
       "      <td>0.950000</td>\n",
       "    </tr>\n",
       "  </tbody>\n",
       "</table>\n",
       "</div>"
      ],
      "text/plain": [
       "                         Name  Winning ratio\n",
       "155           Mega Aerodactyl       0.984496\n",
       "513                   Weavile       0.974790\n",
       "704    Tornadus Therian Forme       0.968000\n",
       "20              Mega Beedrill       0.966387\n",
       "154                Aerodactyl       0.964539\n",
       "477              Mega Lopunny       0.961240\n",
       "727                  Greninja       0.960630\n",
       "717  Meloetta Pirouette Forme       0.959350\n",
       "165             Mega Mewtwo Y       0.952000\n",
       "350             Mega Sharpedo       0.950000"
      ]
     },
     "execution_count": 50,
     "metadata": {},
     "output_type": "execute_result"
    }
   ],
   "source": [
    "print('The 10 Pokémon with the highest winning ratio:')\n",
    "pd.concat([pkmn.set_index('pid').loc[winning_ratio.sort_values(ascending=False)[:10].index]['Name'], \n",
    "           winning_ratio.sort_values(ascending=False)[:10].rename('Winning ratio')], axis=1)"
   ]
  },
  {
   "cell_type": "code",
   "execution_count": 51,
   "metadata": {},
   "outputs": [
    {
     "data": {
      "text/html": [
       "<div>\n",
       "<style scoped>\n",
       "    .dataframe tbody tr th:only-of-type {\n",
       "        vertical-align: middle;\n",
       "    }\n",
       "\n",
       "    .dataframe tbody tr th {\n",
       "        vertical-align: top;\n",
       "    }\n",
       "\n",
       "    .dataframe thead th {\n",
       "        text-align: right;\n",
       "    }\n",
       "</style>\n",
       "<table border=\"1\" class=\"dataframe\">\n",
       "  <thead>\n",
       "    <tr style=\"text-align: right;\">\n",
       "      <th></th>\n",
       "      <th>Name</th>\n",
       "      <th>Class 1</th>\n",
       "      <th>Class 2</th>\n",
       "      <th>HP</th>\n",
       "      <th>Attack</th>\n",
       "      <th>Defense</th>\n",
       "      <th>Sp. Atk</th>\n",
       "      <th>Sp. Def</th>\n",
       "      <th>Speed</th>\n",
       "      <th>Legendary</th>\n",
       "    </tr>\n",
       "  </thead>\n",
       "  <tbody>\n",
       "    <tr>\n",
       "      <th>155</th>\n",
       "      <td>Mega Aerodactyl</td>\n",
       "      <td>Rock</td>\n",
       "      <td>Flying</td>\n",
       "      <td>80</td>\n",
       "      <td>135</td>\n",
       "      <td>85</td>\n",
       "      <td>70</td>\n",
       "      <td>95</td>\n",
       "      <td>150</td>\n",
       "      <td>False</td>\n",
       "    </tr>\n",
       "    <tr>\n",
       "      <th>513</th>\n",
       "      <td>Weavile</td>\n",
       "      <td>Dark</td>\n",
       "      <td>Ice</td>\n",
       "      <td>70</td>\n",
       "      <td>120</td>\n",
       "      <td>65</td>\n",
       "      <td>45</td>\n",
       "      <td>85</td>\n",
       "      <td>125</td>\n",
       "      <td>False</td>\n",
       "    </tr>\n",
       "    <tr>\n",
       "      <th>704</th>\n",
       "      <td>Tornadus Therian Forme</td>\n",
       "      <td>Flying</td>\n",
       "      <td>NaN</td>\n",
       "      <td>79</td>\n",
       "      <td>100</td>\n",
       "      <td>80</td>\n",
       "      <td>110</td>\n",
       "      <td>90</td>\n",
       "      <td>121</td>\n",
       "      <td>True</td>\n",
       "    </tr>\n",
       "    <tr>\n",
       "      <th>20</th>\n",
       "      <td>Mega Beedrill</td>\n",
       "      <td>Bug</td>\n",
       "      <td>Poison</td>\n",
       "      <td>65</td>\n",
       "      <td>150</td>\n",
       "      <td>40</td>\n",
       "      <td>15</td>\n",
       "      <td>80</td>\n",
       "      <td>145</td>\n",
       "      <td>False</td>\n",
       "    </tr>\n",
       "    <tr>\n",
       "      <th>154</th>\n",
       "      <td>Aerodactyl</td>\n",
       "      <td>Rock</td>\n",
       "      <td>Flying</td>\n",
       "      <td>80</td>\n",
       "      <td>105</td>\n",
       "      <td>65</td>\n",
       "      <td>60</td>\n",
       "      <td>75</td>\n",
       "      <td>130</td>\n",
       "      <td>False</td>\n",
       "    </tr>\n",
       "    <tr>\n",
       "      <th>477</th>\n",
       "      <td>Mega Lopunny</td>\n",
       "      <td>Normal</td>\n",
       "      <td>Fighting</td>\n",
       "      <td>65</td>\n",
       "      <td>136</td>\n",
       "      <td>94</td>\n",
       "      <td>54</td>\n",
       "      <td>96</td>\n",
       "      <td>135</td>\n",
       "      <td>False</td>\n",
       "    </tr>\n",
       "    <tr>\n",
       "      <th>727</th>\n",
       "      <td>Greninja</td>\n",
       "      <td>Water</td>\n",
       "      <td>Dark</td>\n",
       "      <td>72</td>\n",
       "      <td>95</td>\n",
       "      <td>67</td>\n",
       "      <td>103</td>\n",
       "      <td>71</td>\n",
       "      <td>122</td>\n",
       "      <td>False</td>\n",
       "    </tr>\n",
       "    <tr>\n",
       "      <th>717</th>\n",
       "      <td>Meloetta Pirouette Forme</td>\n",
       "      <td>Normal</td>\n",
       "      <td>Fighting</td>\n",
       "      <td>100</td>\n",
       "      <td>128</td>\n",
       "      <td>90</td>\n",
       "      <td>77</td>\n",
       "      <td>77</td>\n",
       "      <td>128</td>\n",
       "      <td>False</td>\n",
       "    </tr>\n",
       "    <tr>\n",
       "      <th>165</th>\n",
       "      <td>Mega Mewtwo Y</td>\n",
       "      <td>Psychic</td>\n",
       "      <td>NaN</td>\n",
       "      <td>106</td>\n",
       "      <td>150</td>\n",
       "      <td>70</td>\n",
       "      <td>194</td>\n",
       "      <td>120</td>\n",
       "      <td>140</td>\n",
       "      <td>True</td>\n",
       "    </tr>\n",
       "    <tr>\n",
       "      <th>350</th>\n",
       "      <td>Mega Sharpedo</td>\n",
       "      <td>Water</td>\n",
       "      <td>Dark</td>\n",
       "      <td>70</td>\n",
       "      <td>140</td>\n",
       "      <td>70</td>\n",
       "      <td>110</td>\n",
       "      <td>65</td>\n",
       "      <td>105</td>\n",
       "      <td>False</td>\n",
       "    </tr>\n",
       "  </tbody>\n",
       "</table>\n",
       "</div>"
      ],
      "text/plain": [
       "                         Name  Class 1   Class 2   HP  Attack  Defense  \\\n",
       "155           Mega Aerodactyl     Rock    Flying   80     135       85   \n",
       "513                   Weavile     Dark       Ice   70     120       65   \n",
       "704    Tornadus Therian Forme   Flying       NaN   79     100       80   \n",
       "20              Mega Beedrill      Bug    Poison   65     150       40   \n",
       "154                Aerodactyl     Rock    Flying   80     105       65   \n",
       "477              Mega Lopunny   Normal  Fighting   65     136       94   \n",
       "727                  Greninja    Water      Dark   72      95       67   \n",
       "717  Meloetta Pirouette Forme   Normal  Fighting  100     128       90   \n",
       "165             Mega Mewtwo Y  Psychic       NaN  106     150       70   \n",
       "350             Mega Sharpedo    Water      Dark   70     140       70   \n",
       "\n",
       "     Sp. Atk  Sp. Def  Speed  Legendary  \n",
       "155       70       95    150      False  \n",
       "513       45       85    125      False  \n",
       "704      110       90    121       True  \n",
       "20        15       80    145      False  \n",
       "154       60       75    130      False  \n",
       "477       54       96    135      False  \n",
       "727      103       71    122      False  \n",
       "717       77       77    128      False  \n",
       "165      194      120    140       True  \n",
       "350      110       65    105      False  "
      ]
     },
     "execution_count": 51,
     "metadata": {},
     "output_type": "execute_result"
    }
   ],
   "source": [
    "pkmn.set_index('pid').loc[winning_ratio.sort_values(ascending=False)[:10].index]"
   ]
  },
  {
   "cell_type": "code",
   "execution_count": 52,
   "metadata": {},
   "outputs": [
    {
     "data": {
      "image/png": "[encoded data removed]",
      "text/plain": [
       "<Figure size 720x720 with 6 Axes>"
      ]
     },
     "metadata": {
      "needs_background": "light"
     },
     "output_type": "display_data"
    }
   ],
   "source": [
    "ax = pkmn[pkmn.describe().columns[1:]].hist(figsize=(10,10))"
   ]
  },
  {
   "cell_type": "markdown",
   "metadata": {},
   "source": [
    "3.1 - Comparing the features of the 10 pokémon with the highest winning ratio and the distribution of those features across the dataset, we can see that they are among the pokémon in the highest bins of the Speed distribution histogram. Speed is indeed by far the strongest predictor in the model trained to predict battle outcomes.\n",
    "They also have quite high Attack, while they have average values of Defense.\n",
    "\n",
    "3.2 I don't see how _G_<sup>2</sup> can be different from G and make A any different than 2\\*G.\n",
    "\n",
    "When summing the entries of a row in G or A, we obtain the number of edges departing from that row and therefore have a measure of the number of pokémon that the selected one can defeat."
   ]
  },
  {
   "cell_type": "code",
   "execution_count": 53,
   "metadata": {
    "scrolled": true
   },
   "outputs": [
    {
     "data": {
      "text/plain": [
       "array([[0, 2, 0],\n",
       "       [0, 0, 0],\n",
       "       [2, 2, 0]])"
      ]
     },
     "execution_count": 53,
     "metadata": {},
     "output_type": "execute_result"
    }
   ],
   "source": [
    "mini_G = np.array([[0, 1 , 0], # 1 defeats 2\n",
    "                   [0, 0, 0],  # lowest dominance\n",
    "                   [1, 1, 0]]) # 3 defeats 1 and 2, so it has a higher sum by row and higher dominance\n",
    "mini_G + mini_G*mini_G # A"
   ]
  },
  {
   "cell_type": "code",
   "execution_count": 59,
   "metadata": {},
   "outputs": [],
   "source": [
    "duel_mat = np.zeros((800,800))"
   ]
  },
  {
   "cell_type": "markdown",
   "metadata": {},
   "source": [
    "For loop to count if Pokémon _i_ has won a strictly larger number of times against Pokémon _j_ than _j_ has won against _i_.\n",
    "Every _i_ win gets assigned a +1, every _j_ win gets assigned -1, so if the final number is > 0, _i_ dominates, if the final number is < 0, _j_ dominates."
   ]
  },
  {
   "cell_type": "code",
   "execution_count": 55,
   "metadata": {},
   "outputs": [],
   "source": [
    "def assign_winner(first, second, winner):\n",
    "    if first == winner:\n",
    "        return +1\n",
    "    else:\n",
    "        return -1"
   ]
  },
  {
   "cell_type": "code",
   "execution_count": 56,
   "metadata": {},
   "outputs": [],
   "source": [
    "win_counts = {}\n",
    "for index, row in duels.iterrows():\n",
    "    duel_string = str(row['First_pokemon']) + ',' + str(row['Second_pokemon'])\n",
    "    inverse_duel_string = str(row['Second_pokemon']) + ',' + str(row['First_pokemon'])\n",
    "    if duel_string in win_counts: # check if duel has already being recorded\n",
    "        win_counts[duel_string] = win_counts[duel_string] + assign_winner(row['First_pokemon'], \n",
    "                                                                          row['Second_pokemon'], row['Winner'])\n",
    "    elif inverse_duel_string in win_counts: # check if inverse duel has been recorded\n",
    "        win_counts[inverse_duel_string] = win_counts[inverse_duel_string] + assign_winner(row['Second_pokemon'],\n",
    "                                                                                          row['First_pokemon'],\n",
    "                                                                                          row['Winner'])\n",
    "    else: # create the entry\n",
    "        win_counts[duel_string] = assign_winner(row['First_pokemon'], row['Second_pokemon'], row['Winner'])"
   ]
  },
  {
   "cell_type": "code",
   "execution_count": 57,
   "metadata": {},
   "outputs": [
    {
     "data": {
      "text/plain": [
       "46226"
      ]
     },
     "execution_count": 57,
     "metadata": {},
     "output_type": "execute_result"
    }
   ],
   "source": [
    "len(win_counts.items())"
   ]
  },
  {
   "cell_type": "code",
   "execution_count": 60,
   "metadata": {},
   "outputs": [],
   "source": [
    "for k, v in win_counts.items():\n",
    "    pokemon_pair = [int(p) for p in k.split(',')]\n",
    "    if v > 0:\n",
    "        duel_mat[pokemon_pair[0]-1, pokemon_pair[1]-1]=1 # row i dominates on column j (First pokemon over Second)\n",
    "    elif v < 0:\n",
    "        duel_mat[pokemon_pair[1]-1, pokemon_pair[0]-1]=1 # row j dominates on column i (Second pokemon over First)"
   ]
  },
  {
   "cell_type": "markdown",
   "metadata": {},
   "source": [
    "**Warning**: the method I used to build this matrix doesn't account for second-level edges: because if we record that A is stronger than B, and that B is stronger than C, we should maybe add an edge to record that A is also stronger than C. But that could be false if we count the Class (as in the game of rock, paper, scissors)"
   ]
  },
  {
   "cell_type": "code",
   "execution_count": 61,
   "metadata": {},
   "outputs": [],
   "source": [
    "G = duel_mat\n",
    "duel_mat = G + G*G"
   ]
  },
  {
   "cell_type": "code",
   "execution_count": 62,
   "metadata": {},
   "outputs": [],
   "source": [
    "A = pd.DataFrame(duel_mat, index = pkmn['Name'])"
   ]
  },
  {
   "cell_type": "code",
   "execution_count": 63,
   "metadata": {},
   "outputs": [
    {
     "name": "stdout",
     "output_type": "stream",
     "text": [
      "3.3 - 10 Pokémon with highest dominance score\n"
     ]
    },
    {
     "data": {
      "text/plain": [
       "Name\n",
       "Mewtwo                276.0\n",
       "Aerodactyl            250.0\n",
       "Deoxys Speed Forme    250.0\n",
       "Jirachi               248.0\n",
       "Murkrow               242.0\n",
       "Mega Absol            240.0\n",
       "Mega Houndoom         240.0\n",
       "Mega Aerodactyl       238.0\n",
       "Mega Rayquaza         236.0\n",
       "Mega Mewtwo X         236.0\n",
       "dtype: float64"
      ]
     },
     "execution_count": 63,
     "metadata": {},
     "output_type": "execute_result"
    }
   ],
   "source": [
    "print('3.3 - 10 Pokémon with highest dominance score')\n",
    "A.sum(axis=1).sort_values(ascending=False)[:10]"
   ]
  },
  {
   "cell_type": "code",
   "execution_count": 64,
   "metadata": {},
   "outputs": [
    {
     "data": {
      "text/plain": [
       "Name\n",
       "Ursaring                0.0\n",
       "Poliwag                 0.0\n",
       "Shuckle                 0.0\n",
       "Hariyama                0.0\n",
       "Mega Latias             0.0\n",
       "Jellicent               0.0\n",
       "Ariados                 0.0\n",
       "Servine                 0.0\n",
       "Magneton                0.0\n",
       "Sandshrew               0.0\n",
       "Wigglytuff              0.0\n",
       "Honchkrow               0.0\n",
       "Ditto                   0.0\n",
       "Blastoise               0.0\n",
       "Maractus                0.0\n",
       "Victreebel              0.0\n",
       "Pumpkaboo Small Size    0.0\n",
       "Togepi                  6.0\n",
       "Silcoon                 6.0\n",
       "Wooper                  8.0\n",
       "dtype: float64"
      ]
     },
     "execution_count": 64,
     "metadata": {},
     "output_type": "execute_result"
    }
   ],
   "source": [
    "A.sum(axis=1).sort_values()[:20]"
   ]
  },
  {
   "cell_type": "code",
   "execution_count": 65,
   "metadata": {},
   "outputs": [
    {
     "data": {
      "text/html": [
       "<div>\n",
       "<style scoped>\n",
       "    .dataframe tbody tr th:only-of-type {\n",
       "        vertical-align: middle;\n",
       "    }\n",
       "\n",
       "    .dataframe tbody tr th {\n",
       "        vertical-align: top;\n",
       "    }\n",
       "\n",
       "    .dataframe thead th {\n",
       "        text-align: right;\n",
       "    }\n",
       "</style>\n",
       "<table border=\"1\" class=\"dataframe\">\n",
       "  <thead>\n",
       "    <tr style=\"text-align: right;\">\n",
       "      <th></th>\n",
       "      <th>Name</th>\n",
       "      <th>Winning ratio</th>\n",
       "    </tr>\n",
       "  </thead>\n",
       "  <tbody>\n",
       "    <tr>\n",
       "      <th>231</th>\n",
       "      <td>Shuckle</td>\n",
       "      <td>0.000000</td>\n",
       "    </tr>\n",
       "    <tr>\n",
       "      <th>290</th>\n",
       "      <td>Silcoon</td>\n",
       "      <td>0.021739</td>\n",
       "    </tr>\n",
       "    <tr>\n",
       "      <th>190</th>\n",
       "      <td>Togepi</td>\n",
       "      <td>0.024590</td>\n",
       "    </tr>\n",
       "    <tr>\n",
       "      <th>639</th>\n",
       "      <td>Solosis</td>\n",
       "      <td>0.031008</td>\n",
       "    </tr>\n",
       "    <tr>\n",
       "      <th>237</th>\n",
       "      <td>Slugma</td>\n",
       "      <td>0.032520</td>\n",
       "    </tr>\n",
       "    <tr>\n",
       "      <th>577</th>\n",
       "      <td>Munna</td>\n",
       "      <td>0.039062</td>\n",
       "    </tr>\n",
       "    <tr>\n",
       "      <th>189</th>\n",
       "      <td>Igglybuff</td>\n",
       "      <td>0.043478</td>\n",
       "    </tr>\n",
       "    <tr>\n",
       "      <th>395</th>\n",
       "      <td>Wynaut</td>\n",
       "      <td>0.046154</td>\n",
       "    </tr>\n",
       "    <tr>\n",
       "      <th>210</th>\n",
       "      <td>Wooper</td>\n",
       "      <td>0.048000</td>\n",
       "    </tr>\n",
       "    <tr>\n",
       "      <th>292</th>\n",
       "      <td>Cascoon</td>\n",
       "      <td>0.052632</td>\n",
       "    </tr>\n",
       "  </tbody>\n",
       "</table>\n",
       "</div>"
      ],
      "text/plain": [
       "          Name  Winning ratio\n",
       "231    Shuckle       0.000000\n",
       "290    Silcoon       0.021739\n",
       "190     Togepi       0.024590\n",
       "639    Solosis       0.031008\n",
       "237     Slugma       0.032520\n",
       "577      Munna       0.039062\n",
       "189  Igglybuff       0.043478\n",
       "395     Wynaut       0.046154\n",
       "210     Wooper       0.048000\n",
       "292    Cascoon       0.052632"
      ]
     },
     "execution_count": 65,
     "metadata": {},
     "output_type": "execute_result"
    }
   ],
   "source": [
    "pd.concat([pkmn.set_index('pid').loc[winning_ratio.sort_values()[:10].index]['Name'], \n",
    "           winning_ratio.sort_values()[:10].rename('Winning ratio')], axis=1)"
   ]
  },
  {
   "cell_type": "markdown",
   "metadata": {},
   "source": [
    "**3.4** - Dominance scores and winning ratio rankings differ, although they don't tell such different stories at the top of the rankings (Mega Aerodactyl ranks high in both cases).\n",
    "\n",
    "The difference is higher when we consider the last positions of the rankings: because the pokemons at the bottom of the winning ratio still might have won some battles and we don't learn much about their strength. While the pokémons at the bottom of the dominance ranking have consistenly lost all battles OR we don't have any information about them because they didn't appear in the duels (not all 800 pokémon are featured in the duels dataset).\n",
    "\n",
    "I suspect that winning ratio might suffer from data collection bias: meaning that if a lot of winning (or losing) duels have been recorded for a pokémon, it gets listed as stronger (or weaker), while in dominance score it's about facing multiple different pokémons, irrespective of the number of duels recorded.\n",
    "\n",
    "The way I built the dominance matrix is missing some information, because I left zeros in the row-column pairs for which there was no information (no battles recorded), so it might need some refinement.\n",
    "\n",
    "So if the data collected is not complete, the dominance matrix has problems being very sparse."
   ]
  },
  {
   "cell_type": "code",
   "execution_count": 66,
   "metadata": {},
   "outputs": [
    {
     "name": "stdout",
     "output_type": "stream",
     "text": [
      "There are no duels recorded for 16 pokémon.\n"
     ]
    }
   ],
   "source": [
    "print(f'There are no duels recorded for {800 - len(num_of_battles)} pokémon.')"
   ]
  },
  {
   "cell_type": "markdown",
   "metadata": {},
   "source": [
    "**3.5** - I think the dominance score should be used, but it will be missing some information until more data that covers all pokémon is collected, and/or until a better implementation of it is written. \n",
    "\n",
    "A possible solution to the problem of not having a battle recorded for every possible pair of pokémon (i.e., every element of the matrix, 800<sup>2</sup> combinations in total), is to predict the outcome of the missing battles with the model we have built.\n",
    "\n",
    "So we could release the pokédex putting a special flag on the pokémons for which data was missing, informing the user that the ranking has been completely or partially estimated. In the future, more real data can be collected and integrate the predicted information."
   ]
  },
  {
   "cell_type": "code",
   "execution_count": null,
   "metadata": {},
   "outputs": [],
   "source": []
  }
 ],
 "metadata": {
  "kernelspec": {
   "display_name": "Python 3",
   "language": "python",
   "name": "python3"
  },
  "language_info": {
   "codemirror_mode": {
    "name": "ipython",
    "version": 3
   },
   "file_extension": ".py",
   "mimetype": "text/x-python",
   "name": "python",
   "nbconvert_exporter": "python",
   "pygments_lexer": "ipython3",
   "version": "3.7.6"
  }
 },
 "nbformat": 4,
 "nbformat_minor": 2
}
